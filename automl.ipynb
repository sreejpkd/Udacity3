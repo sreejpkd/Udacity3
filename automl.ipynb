{
 "cells": [
  {
   "cell_type": "markdown",
   "metadata": {},
   "source": [
    "# Automated ML\n",
    "\n",
    "TODO: Import Dependencies. In the cell below, import all the dependencies that you will need to complete the project."
   ]
  },
  {
   "cell_type": "code",
   "execution_count": 2,
   "metadata": {
    "gather": {
     "logged": 1598423888013
    },
    "jupyter": {
     "outputs_hidden": false,
     "source_hidden": false
    },
    "nteract": {
     "transient": {
      "deleting": false
     }
    }
   },
   "outputs": [],
   "source": [
    "from azureml.core import Workspace,Experiment,Dataset\n",
    "from azureml.core.compute import ComputeTarget,AmlCompute\n",
    "from azureml.core.compute_target import ComputeTargetException\n",
    "from azureml.widgets import RunDetails\n",
    "from azureml.train.automl import AutoMLConfig\n",
    "from azureml.train.automl.utilities import get_primary_metrics"
   ]
  },
  {
   "cell_type": "markdown",
   "metadata": {},
   "source": [
    "## Dataset\n",
    "\n",
    "### Overview\n",
    "TODO: In this markdown cell, give an overview of the dataset you are using. Also mention the task you will be performing.\n",
    "\n",
    "\n",
    "TODO: Get data. In the cell below, write code to access the data you will be using in this project. Remember that the dataset needs to be external."
   ]
  },
  {
   "cell_type": "code",
   "execution_count": 3,
   "metadata": {
    "gather": {
     "logged": 1598423890461
    },
    "jupyter": {
     "outputs_hidden": false,
     "source_hidden": false
    },
    "nteract": {
     "transient": {
      "deleting": false
     }
    }
   },
   "outputs": [],
   "source": [
    "ws = Workspace.from_config()\n",
    "\n",
    "# choose a name for experiment\n",
    "experiment_name = 'exp-heart1'\n",
    "\n",
    "experiment=Experiment(ws, experiment_name)"
   ]
  },
  {
   "cell_type": "code",
   "execution_count": 5,
   "metadata": {},
   "outputs": [
    {
     "name": "stdout",
     "output_type": "stream",
     "text": [
      "Provisioning operation finished, operation \"Succeeded\"\n"
     ]
    }
   ],
   "source": [
    "try:\n",
    "    cluster=ComputeTarget(workspace=ws,name=\"compute-1\")\n",
    "    print('cluster exists')\n",
    "except:\n",
    "    config =AmlCompute.provisioning_configuration(vm_size='STANDARD_D2_V2', max_nodes=4)\n",
    "    cluster =ComputeTarget.create(ws,\"compute-1\",config)\n",
    "    \n",
    "cluster.wait_for_completion()\n",
    "    "
   ]
  },
  {
   "cell_type": "code",
   "execution_count": 6,
   "metadata": {},
   "outputs": [
    {
     "data": {
      "text/html": [
       "<div>\n",
       "<style scoped>\n",
       "    .dataframe tbody tr th:only-of-type {\n",
       "        vertical-align: middle;\n",
       "    }\n",
       "\n",
       "    .dataframe tbody tr th {\n",
       "        vertical-align: top;\n",
       "    }\n",
       "\n",
       "    .dataframe thead th {\n",
       "        text-align: right;\n",
       "    }\n",
       "</style>\n",
       "<table border=\"1\" class=\"dataframe\">\n",
       "  <thead>\n",
       "    <tr style=\"text-align: right;\">\n",
       "      <th></th>\n",
       "      <th>age</th>\n",
       "      <th>anaemia</th>\n",
       "      <th>creatinine_phosphokinase</th>\n",
       "      <th>diabetes</th>\n",
       "      <th>ejection_fraction</th>\n",
       "      <th>high_blood_pressure</th>\n",
       "      <th>platelets</th>\n",
       "      <th>serum_creatinine</th>\n",
       "      <th>serum_sodium</th>\n",
       "      <th>sex</th>\n",
       "      <th>smoking</th>\n",
       "      <th>time</th>\n",
       "      <th>DEATH_EVENT</th>\n",
       "    </tr>\n",
       "  </thead>\n",
       "  <tbody>\n",
       "    <tr>\n",
       "      <th>0</th>\n",
       "      <td>75.0</td>\n",
       "      <td>0</td>\n",
       "      <td>582</td>\n",
       "      <td>0</td>\n",
       "      <td>20</td>\n",
       "      <td>1</td>\n",
       "      <td>265000.00</td>\n",
       "      <td>1.9</td>\n",
       "      <td>130</td>\n",
       "      <td>1</td>\n",
       "      <td>0</td>\n",
       "      <td>4</td>\n",
       "      <td>1</td>\n",
       "    </tr>\n",
       "    <tr>\n",
       "      <th>1</th>\n",
       "      <td>55.0</td>\n",
       "      <td>0</td>\n",
       "      <td>7861</td>\n",
       "      <td>0</td>\n",
       "      <td>38</td>\n",
       "      <td>0</td>\n",
       "      <td>263358.03</td>\n",
       "      <td>1.1</td>\n",
       "      <td>136</td>\n",
       "      <td>1</td>\n",
       "      <td>0</td>\n",
       "      <td>6</td>\n",
       "      <td>1</td>\n",
       "    </tr>\n",
       "    <tr>\n",
       "      <th>2</th>\n",
       "      <td>65.0</td>\n",
       "      <td>0</td>\n",
       "      <td>146</td>\n",
       "      <td>0</td>\n",
       "      <td>20</td>\n",
       "      <td>0</td>\n",
       "      <td>162000.00</td>\n",
       "      <td>1.3</td>\n",
       "      <td>129</td>\n",
       "      <td>1</td>\n",
       "      <td>1</td>\n",
       "      <td>7</td>\n",
       "      <td>1</td>\n",
       "    </tr>\n",
       "    <tr>\n",
       "      <th>3</th>\n",
       "      <td>50.0</td>\n",
       "      <td>1</td>\n",
       "      <td>111</td>\n",
       "      <td>0</td>\n",
       "      <td>20</td>\n",
       "      <td>0</td>\n",
       "      <td>210000.00</td>\n",
       "      <td>1.9</td>\n",
       "      <td>137</td>\n",
       "      <td>1</td>\n",
       "      <td>0</td>\n",
       "      <td>7</td>\n",
       "      <td>1</td>\n",
       "    </tr>\n",
       "    <tr>\n",
       "      <th>4</th>\n",
       "      <td>65.0</td>\n",
       "      <td>1</td>\n",
       "      <td>160</td>\n",
       "      <td>1</td>\n",
       "      <td>20</td>\n",
       "      <td>0</td>\n",
       "      <td>327000.00</td>\n",
       "      <td>2.7</td>\n",
       "      <td>116</td>\n",
       "      <td>0</td>\n",
       "      <td>0</td>\n",
       "      <td>8</td>\n",
       "      <td>1</td>\n",
       "    </tr>\n",
       "  </tbody>\n",
       "</table>\n",
       "</div>"
      ],
      "text/plain": [
       "    age  anaemia  creatinine_phosphokinase  diabetes  ejection_fraction  \\\n",
       "0  75.0        0                       582         0                 20   \n",
       "1  55.0        0                      7861         0                 38   \n",
       "2  65.0        0                       146         0                 20   \n",
       "3  50.0        1                       111         0                 20   \n",
       "4  65.0        1                       160         1                 20   \n",
       "\n",
       "   high_blood_pressure  platelets  serum_creatinine  serum_sodium  sex  \\\n",
       "0                    1  265000.00               1.9           130    1   \n",
       "1                    0  263358.03               1.1           136    1   \n",
       "2                    0  162000.00               1.3           129    1   \n",
       "3                    0  210000.00               1.9           137    1   \n",
       "4                    0  327000.00               2.7           116    0   \n",
       "\n",
       "   smoking  time  DEATH_EVENT  \n",
       "0        0     4            1  \n",
       "1        0     6            1  \n",
       "2        1     7            1  \n",
       "3        0     7            1  \n",
       "4        0     8            1  "
      ]
     },
     "execution_count": 6,
     "metadata": {},
     "output_type": "execute_result"
    }
   ],
   "source": [
    "heart_data = Dataset.get_by_name(ws,name=\"heartfailure\")\n",
    "heart_data.take(5).to_pandas_dataframe()"
   ]
  },
  {
   "cell_type": "markdown",
   "metadata": {},
   "source": [
    "## AutoML Configuration\n",
    "\n",
    "TODO: Explain why you chose the automl settings and cofiguration you used below."
   ]
  },
  {
   "cell_type": "code",
   "execution_count": 14,
   "metadata": {
    "gather": {
     "logged": 1598429217746
    },
    "jupyter": {
     "outputs_hidden": false,
     "source_hidden": false
    },
    "nteract": {
     "transient": {
      "deleting": false
     }
    }
   },
   "outputs": [],
   "source": [
    "# TODO: Put your automl settings here\n",
    "automl_settings = {\n",
    "    \"experiment_timeout_minutes\": 20,\n",
    "    \"task\": \"classification\", \n",
    "    \"primary_metric\": \"AUC_weighted\",\n",
    "    \"training_data\": heart_data,\n",
    "    \"label_column_name\": \"DEATH_EVENT\",\n",
    "    \"n_cross_validations\": 3,\n",
    "    \"enable_early_stopping\": True,\n",
    "    \"debug_log\" :\"automl_errors.log\",\n",
    "    \"max_concurrent_iterations\": 4,\n",
    "    \"compute_target\": cluster,\n",
    "    \"iterations\":100\n",
    "}\n",
    "\n",
    "# TODO: Put your automl config here\n",
    "automl_config = AutoMLConfig(**automl_settings)"
   ]
  },
  {
   "cell_type": "code",
   "execution_count": 10,
   "metadata": {
    "gather": {
     "logged": 1598431107951
    },
    "jupyter": {
     "outputs_hidden": false,
     "source_hidden": false
    },
    "nteract": {
     "transient": {
      "deleting": false
     }
    }
   },
   "outputs": [
    {
     "name": "stderr",
     "output_type": "stream",
     "text": [
      "WARNING:root:Received unrecognized parameter debug_logs\n"
     ]
    },
    {
     "name": "stdout",
     "output_type": "stream",
     "text": [
      "Submitting remote run.\n"
     ]
    },
    {
     "data": {
      "text/html": [
       "<table style=\"width:100%\"><tr><th>Experiment</th><th>Id</th><th>Type</th><th>Status</th><th>Details Page</th><th>Docs Page</th></tr><tr><td>exp-heart1</td><td>AutoML_7864ded7-621a-42b1-a8e8-593d96f61793</td><td>automl</td><td>NotStarted</td><td><a href=\"https://ml.azure.com/runs/AutoML_7864ded7-621a-42b1-a8e8-593d96f61793?wsid=/subscriptions/a24a24d5-8d87-4c8a-99b6-91ed2d2df51f/resourcegroups/aml-quickstarts-143334/workspaces/quick-starts-ws-143334&amp;tid=660b3398-b80e-49d2-bc5b-ac1dc93b5254\" target=\"_blank\" rel=\"noopener\">Link to Azure Machine Learning studio</a></td><td><a href=\"https://docs.microsoft.com/en-us/python/api/overview/azure/ml/intro?view=azure-ml-py\" target=\"_blank\" rel=\"noopener\">Link to Documentation</a></td></tr></table>"
      ],
      "text/plain": [
       "<IPython.core.display.HTML object>"
      ]
     },
     "metadata": {},
     "output_type": "display_data"
    }
   ],
   "source": [
    "# TODO: Submit your experiment\n",
    "remote_run = experiment.submit(automl_config)"
   ]
  },
  {
   "cell_type": "markdown",
   "metadata": {},
   "source": [
    "## Run Details\n",
    "\n",
    "OPTIONAL: Write about the different models trained and their performance. Why do you think some models did better than others?\n",
    "\n",
    "TODO: In the cell below, use the `RunDetails` widget to show the different experiments."
   ]
  },
  {
   "cell_type": "code",
   "execution_count": 11,
   "metadata": {
    "gather": {
     "logged": 1598431121770
    },
    "jupyter": {
     "outputs_hidden": false,
     "source_hidden": false
    },
    "nteract": {
     "transient": {
      "deleting": false
     }
    }
   },
   "outputs": [
    {
     "data": {
      "application/vnd.jupyter.widget-view+json": {
       "model_id": "d8a4cbcc88094c629019a887ad16aba3",
       "version_major": 2,
       "version_minor": 0
      },
      "text/plain": [
       "_AutoMLWidget(widget_settings={'childWidgetDisplay': 'popup', 'send_telemetry': False, 'log_level': 'INFO', 's…"
      ]
     },
     "metadata": {},
     "output_type": "display_data"
    },
    {
     "data": {
      "application/aml.mini.widget.v1": "{\"status\": \"Completed\", \"workbench_run_details_uri\": \"https://ml.azure.com/runs/AutoML_7864ded7-621a-42b1-a8e8-593d96f61793?wsid=/subscriptions/a24a24d5-8d87-4c8a-99b6-91ed2d2df51f/resourcegroups/aml-quickstarts-143334/workspaces/quick-starts-ws-143334&tid=660b3398-b80e-49d2-bc5b-ac1dc93b5254\", \"run_id\": \"AutoML_7864ded7-621a-42b1-a8e8-593d96f61793\", \"run_properties\": {\"run_id\": \"AutoML_7864ded7-621a-42b1-a8e8-593d96f61793\", \"created_utc\": \"2021-04-22T04:57:22.131561Z\", \"properties\": {\"num_iterations\": \"100\", \"training_type\": \"TrainFull\", \"acquisition_function\": \"EI\", \"primary_metric\": \"AUC_weighted\", \"train_split\": \"0\", \"acquisition_parameter\": \"0\", \"num_cross_validation\": \"3\", \"target\": \"compute-1\", \"AMLSettingsJsonString\": \"{\\\"path\\\":null,\\\"name\\\":\\\"exp-heart1\\\",\\\"subscription_id\\\":\\\"a24a24d5-8d87-4c8a-99b6-91ed2d2df51f\\\",\\\"resource_group\\\":\\\"aml-quickstarts-143334\\\",\\\"workspace_name\\\":\\\"quick-starts-ws-143334\\\",\\\"region\\\":\\\"southcentralus\\\",\\\"compute_target\\\":\\\"compute-1\\\",\\\"spark_service\\\":null,\\\"azure_service\\\":\\\"remote\\\",\\\"many_models\\\":false,\\\"pipeline_fetch_max_batch_size\\\":1,\\\"enable_batch_run\\\":false,\\\"enable_run_restructure\\\":false,\\\"iterations\\\":100,\\\"primary_metric\\\":\\\"AUC_weighted\\\",\\\"task_type\\\":\\\"classification\\\",\\\"data_script\\\":null,\\\"test_size\\\":0.0,\\\"validation_size\\\":0.0,\\\"n_cross_validations\\\":3,\\\"y_min\\\":null,\\\"y_max\\\":null,\\\"num_classes\\\":null,\\\"featurization\\\":\\\"auto\\\",\\\"_ignore_package_version_incompatibilities\\\":false,\\\"is_timeseries\\\":false,\\\"max_cores_per_iteration\\\":1,\\\"max_concurrent_iterations\\\":4,\\\"iteration_timeout_minutes\\\":null,\\\"mem_in_mb\\\":null,\\\"enforce_time_on_windows\\\":false,\\\"experiment_timeout_minutes\\\":20,\\\"experiment_exit_score\\\":null,\\\"whitelist_models\\\":null,\\\"blacklist_algos\\\":[\\\"TensorFlowLinearClassifier\\\",\\\"TensorFlowDNN\\\"],\\\"supported_models\\\":[\\\"MultinomialNaiveBayes\\\",\\\"LightGBM\\\",\\\"TensorFlowDNN\\\",\\\"LogisticRegression\\\",\\\"BernoulliNaiveBayes\\\",\\\"AveragedPerceptronClassifier\\\",\\\"LinearSVM\\\",\\\"DecisionTree\\\",\\\"SGD\\\",\\\"GradientBoosting\\\",\\\"RandomForest\\\",\\\"SVM\\\",\\\"TensorFlowLinearClassifier\\\",\\\"ExtremeRandomTrees\\\",\\\"KNN\\\",\\\"XGBoostClassifier\\\"],\\\"private_models\\\":[],\\\"auto_blacklist\\\":true,\\\"blacklist_samples_reached\\\":false,\\\"exclude_nan_labels\\\":true,\\\"verbosity\\\":20,\\\"_debug_log\\\":\\\"azureml_automl.log\\\",\\\"show_warnings\\\":false,\\\"model_explainability\\\":true,\\\"service_url\\\":null,\\\"sdk_url\\\":null,\\\"sdk_packages\\\":null,\\\"enable_onnx_compatible_models\\\":false,\\\"enable_split_onnx_featurizer_estimator_models\\\":false,\\\"vm_type\\\":\\\"STANDARD_D2_V2\\\",\\\"telemetry_verbosity\\\":20,\\\"send_telemetry\\\":true,\\\"enable_dnn\\\":false,\\\"scenario\\\":\\\"SDK-1.13.0\\\",\\\"environment_label\\\":null,\\\"save_mlflow\\\":false,\\\"force_text_dnn\\\":false,\\\"enable_feature_sweeping\\\":true,\\\"enable_early_stopping\\\":true,\\\"early_stopping_n_iters\\\":10,\\\"metrics\\\":null,\\\"enable_metric_confidence\\\":false,\\\"enable_ensembling\\\":true,\\\"enable_stack_ensembling\\\":true,\\\"ensemble_iterations\\\":15,\\\"enable_tf\\\":false,\\\"enable_subsampling\\\":false,\\\"subsample_seed\\\":null,\\\"enable_nimbusml\\\":false,\\\"enable_streaming\\\":false,\\\"force_streaming\\\":false,\\\"track_child_runs\\\":true,\\\"allowed_private_models\\\":[],\\\"label_column_name\\\":\\\"DEATH_EVENT\\\",\\\"weight_column_name\\\":null,\\\"cv_split_column_names\\\":null,\\\"enable_local_managed\\\":false,\\\"_local_managed_run_id\\\":null,\\\"cost_mode\\\":1,\\\"lag_length\\\":0,\\\"metric_operation\\\":\\\"maximize\\\",\\\"preprocess\\\":true,\\\"debug_logs\\\":\\\"automl_errors.log\\\"}\", \"DataPrepJsonString\": \"{\\\\\\\"training_data\\\\\\\": {\\\\\\\"datasetId\\\\\\\": \\\\\\\"4bc234d2-9b7b-4295-af4f-28e18d1d5d7b\\\\\\\"}, \\\\\\\"datasets\\\\\\\": 0}\", \"EnableSubsampling\": \"False\", \"runTemplate\": \"AutoML\", \"azureml.runsource\": \"automl\", \"display_task_type\": \"classification\", \"dependencies_versions\": \"{\\\"azureml-widgets\\\": \\\"1.26.0\\\", \\\"azureml-train\\\": \\\"1.26.0\\\", \\\"azureml-train-restclients-hyperdrive\\\": \\\"1.26.0\\\", \\\"azureml-train-core\\\": \\\"1.26.0\\\", \\\"azureml-train-automl\\\": \\\"1.26.0\\\", \\\"azureml-train-automl-runtime\\\": \\\"1.26.0\\\", \\\"azureml-train-automl-client\\\": \\\"1.26.0\\\", \\\"azureml-tensorboard\\\": \\\"1.26.0\\\", \\\"azureml-telemetry\\\": \\\"1.26.0\\\", \\\"azureml-sdk\\\": \\\"1.26.0\\\", \\\"azureml-samples\\\": \\\"0+unknown\\\", \\\"azureml-pipeline\\\": \\\"1.26.0\\\", \\\"azureml-pipeline-steps\\\": \\\"1.26.0\\\", \\\"azureml-pipeline-core\\\": \\\"1.26.0\\\", \\\"azureml-opendatasets\\\": \\\"1.26.0\\\", \\\"azureml-model-management-sdk\\\": \\\"1.0.1b6.post1\\\", \\\"azureml-mlflow\\\": \\\"1.26.0\\\", \\\"azureml-interpret\\\": \\\"1.26.0\\\", \\\"azureml-explain-model\\\": \\\"1.26.0\\\", \\\"azureml-defaults\\\": \\\"1.26.0\\\", \\\"azureml-dataset-runtime\\\": \\\"1.26.0\\\", \\\"azureml-dataprep\\\": \\\"2.13.2\\\", \\\"azureml-dataprep-rslex\\\": \\\"1.11.2\\\", \\\"azureml-dataprep-native\\\": \\\"32.0.0\\\", \\\"azureml-datadrift\\\": \\\"1.26.0\\\", \\\"azureml-core\\\": \\\"1.26.0\\\", \\\"azureml-contrib-services\\\": \\\"1.26.0\\\", \\\"azureml-contrib-server\\\": \\\"1.26.0\\\", \\\"azureml-contrib-reinforcementlearning\\\": \\\"1.26.0\\\", \\\"azureml-contrib-pipeline-steps\\\": \\\"1.26.0\\\", \\\"azureml-contrib-notebook\\\": \\\"1.26.0\\\", \\\"azureml-contrib-gbdt\\\": \\\"1.26.0\\\", \\\"azureml-contrib-fairness\\\": \\\"1.26.0\\\", \\\"azureml-contrib-dataset\\\": \\\"1.26.0\\\", \\\"azureml-cli-common\\\": \\\"1.26.0\\\", \\\"azureml-automl-runtime\\\": \\\"1.26.0\\\", \\\"azureml-automl-dnn-nlp\\\": \\\"1.26.0\\\", \\\"azureml-automl-core\\\": \\\"1.26.0\\\", \\\"azureml-accel-models\\\": \\\"1.26.0\\\"}\", \"_aml_system_scenario_identification\": \"Remote.Parent\", \"ClientType\": \"SDK\", \"environment_cpu_name\": \"AzureML-AutoML\", \"environment_cpu_label\": \"prod\", \"environment_gpu_name\": \"AzureML-AutoML-GPU\", \"environment_gpu_label\": \"prod\", \"root_attribution\": \"automl\", \"attribution\": \"AutoML\", \"Orchestrator\": \"AutoML\", \"CancelUri\": \"https://southcentralus.api.azureml.ms/jasmine/v1.0/subscriptions/a24a24d5-8d87-4c8a-99b6-91ed2d2df51f/resourceGroups/aml-quickstarts-143334/providers/Microsoft.MachineLearningServices/workspaces/quick-starts-ws-143334/experimentids/ec71b80d-cd85-484d-a180-49eba5e8daa5/cancel/AutoML_7864ded7-621a-42b1-a8e8-593d96f61793\", \"ClientSdkVersion\": \"1.26.0\", \"snapshotId\": \"00000000-0000-0000-0000-000000000000\", \"SetupRunId\": \"AutoML_7864ded7-621a-42b1-a8e8-593d96f61793_setup\", \"SetupRunContainerId\": \"dcid.AutoML_7864ded7-621a-42b1-a8e8-593d96f61793_setup\", \"FeaturizationRunJsonPath\": \"featurizer_container.json\", \"FeaturizationRunId\": \"AutoML_7864ded7-621a-42b1-a8e8-593d96f61793_featurize\", \"ProblemInfoJsonString\": \"{\\\"dataset_num_categorical\\\": 0, \\\"is_sparse\\\": false, \\\"subsampling\\\": false, \\\"dataset_classes\\\": 2, \\\"dataset_features\\\": 12, \\\"dataset_samples\\\": 299, \\\"single_frequency_class_detected\\\": false}\", \"ModelExplainRunId\": \"AutoML_7864ded7-621a-42b1-a8e8-593d96f61793_ModelExplain\"}, \"tags\": {\"model_explain_run\": \"best_run\", \"_aml_system_azureml.automlComponent\": \"AutoML\", \"pipeline_id\": \"\", \"score\": \"\", \"predicted_cost\": \"\", \"fit_time\": \"\", \"training_percent\": \"\", \"iteration\": \"\", \"run_preprocessor\": \"\", \"run_algorithm\": \"\", \"dynamic_whitelisting_iterations\": \"<25>;<30>;<35>;<40>;<45>;\", \"automl_best_child_run_id\": \"AutoML_7864ded7-621a-42b1-a8e8-593d96f61793_48\", \"model_explain_best_run_child_id\": \"AutoML_7864ded7-621a-42b1-a8e8-593d96f61793_48\"}, \"end_time_utc\": \"2021-04-22T05:24:21.845596Z\", \"status\": \"Completed\", \"log_files\": {}, \"log_groups\": [], \"run_duration\": \"0:26:59\", \"run_number\": \"1\", \"run_queued_details\": {\"status\": \"Completed\", \"details\": null}}, \"child_runs\": [{\"run_id\": \"AutoML_7864ded7-621a-42b1-a8e8-593d96f61793_0\", \"run_number\": 5, \"metric\": null, \"status\": \"Completed\", \"run_type\": \"azureml.scriptrun\", \"training_percent\": \"100\", \"start_time\": \"2021-04-22T05:07:48.322521Z\", \"end_time\": \"2021-04-22T05:08:38.33575Z\", \"created_time\": \"2021-04-22T05:05:31.27603Z\", \"created_time_dt\": \"2021-04-22T05:05:31.27603Z\", \"duration\": \"0:03:07\", \"iteration\": \"0\", \"goal\": \"AUC_weighted_max\", \"run_name\": \"MaxAbsScaler, LightGBM\", \"run_properties\": \"copy=True\", \"primary_metric\": 0.85502872, \"best_metric\": 0.85502872}, {\"run_id\": \"AutoML_7864ded7-621a-42b1-a8e8-593d96f61793_1\", \"run_number\": 6, \"metric\": null, \"status\": \"Completed\", \"run_type\": \"azureml.scriptrun\", \"training_percent\": \"100\", \"start_time\": \"2021-04-22T05:05:42.23012Z\", \"end_time\": \"2021-04-22T05:06:30.13081Z\", \"created_time\": \"2021-04-22T05:05:31.37689Z\", \"created_time_dt\": \"2021-04-22T05:05:31.37689Z\", \"duration\": \"0:00:58\", \"iteration\": \"1\", \"goal\": \"AUC_weighted_max\", \"run_name\": \"MaxAbsScaler, XGBoostClassifier\", \"run_properties\": \"copy=True\", \"primary_metric\": 0.8759384, \"best_metric\": 0.8759384}, {\"run_id\": \"AutoML_7864ded7-621a-42b1-a8e8-593d96f61793_3\", \"run_number\": 7, \"metric\": null, \"status\": \"Completed\", \"run_type\": \"azureml.scriptrun\", \"training_percent\": \"100\", \"start_time\": \"2021-04-22T05:06:45.572643Z\", \"end_time\": \"2021-04-22T05:07:30.812819Z\", \"created_time\": \"2021-04-22T05:05:31.378375Z\", \"created_time_dt\": \"2021-04-22T05:05:31.378375Z\", \"duration\": \"0:01:59\", \"iteration\": \"3\", \"goal\": \"AUC_weighted_max\", \"run_name\": \"RobustScaler, ExtremeRandomTrees\", \"run_properties\": \"copy=True, quantile_range=[10, 90], with_centering=False,\\n             with_scaling=False\", \"primary_metric\": 0.87045913, \"best_metric\": 0.89316129}, {\"run_id\": \"AutoML_7864ded7-621a-42b1-a8e8-593d96f61793_2\", \"run_number\": 8, \"metric\": null, \"status\": \"Completed\", \"run_type\": \"azureml.scriptrun\", \"training_percent\": \"100\", \"start_time\": \"2021-04-22T05:08:11.067443Z\", \"end_time\": \"2021-04-22T05:13:32.298626Z\", \"created_time\": \"2021-04-22T05:05:31.382856Z\", \"created_time_dt\": \"2021-04-22T05:05:31.382856Z\", \"duration\": \"0:08:00\", \"iteration\": \"2\", \"goal\": \"AUC_weighted_max\", \"run_name\": \"MinMaxScaler, RandomForest\", \"run_properties\": \"copy=True, feature_range=(0, 1\", \"primary_metric\": 0.89316129, \"best_metric\": 0.89316129}, {\"run_id\": \"AutoML_7864ded7-621a-42b1-a8e8-593d96f61793_4\", \"run_number\": 9, \"metric\": null, \"status\": \"Completed\", \"run_type\": \"azureml.scriptrun\", \"training_percent\": \"100\", \"start_time\": \"2021-04-22T05:08:19.629391Z\", \"end_time\": \"2021-04-22T05:13:49.540778Z\", \"created_time\": \"2021-04-22T05:06:31.960552Z\", \"created_time_dt\": \"2021-04-22T05:06:31.960552Z\", \"duration\": \"0:07:17\", \"iteration\": \"4\", \"goal\": \"AUC_weighted_max\", \"run_name\": \"MinMaxScaler, RandomForest\", \"run_properties\": \"copy=True, feature_range=(0, 1\", \"primary_metric\": 0.89325384, \"best_metric\": 0.89325384}, {\"run_id\": \"AutoML_7864ded7-621a-42b1-a8e8-593d96f61793_5\", \"run_number\": 10, \"metric\": null, \"status\": \"Completed\", \"run_type\": \"azureml.scriptrun\", \"training_percent\": \"100\", \"start_time\": \"2021-04-22T05:08:15.937682Z\", \"end_time\": \"2021-04-22T05:11:08.943816Z\", \"created_time\": \"2021-04-22T05:07:34.585999Z\", \"created_time_dt\": \"2021-04-22T05:07:34.585999Z\", \"duration\": \"0:03:34\", \"iteration\": \"5\", \"goal\": \"AUC_weighted_max\", \"run_name\": \"MinMaxScaler, RandomForest\", \"run_properties\": \"copy=True, feature_range=(0, 1\", \"primary_metric\": 0.88911574, \"best_metric\": 0.89325384}, {\"run_id\": \"AutoML_7864ded7-621a-42b1-a8e8-593d96f61793_6\", \"run_number\": 11, \"metric\": null, \"status\": \"Completed\", \"run_type\": \"azureml.scriptrun\", \"training_percent\": \"100\", \"start_time\": \"2021-04-22T05:08:49.440735Z\", \"end_time\": \"2021-04-22T05:09:43.277221Z\", \"created_time\": \"2021-04-22T05:08:41.46478Z\", \"created_time_dt\": \"2021-04-22T05:08:41.46478Z\", \"duration\": \"0:01:01\", \"iteration\": \"6\", \"goal\": \"AUC_weighted_max\", \"run_name\": \"StandardScalerWrapper, RandomForest\", \"run_properties\": \"<azureml.automl.runtime.shared.model_wrappers.StandardScalerWrapper object at 0x7efd1e280358\", \"primary_metric\": 0.89191622, \"best_metric\": 0.89325384}, {\"run_id\": \"AutoML_7864ded7-621a-42b1-a8e8-593d96f61793_7\", \"run_number\": 12, \"metric\": null, \"status\": \"Completed\", \"run_type\": \"azureml.scriptrun\", \"training_percent\": \"100\", \"start_time\": \"2021-04-22T05:09:56.555357Z\", \"end_time\": \"2021-04-22T05:10:47.724423Z\", \"created_time\": \"2021-04-22T05:09:47.14178Z\", \"created_time_dt\": \"2021-04-22T05:09:47.14178Z\", \"duration\": \"0:01:00\", \"iteration\": \"7\", \"goal\": \"AUC_weighted_max\", \"run_name\": \"MinMaxScaler, ExtremeRandomTrees\", \"run_properties\": \"copy=True, feature_range=(0, 1\", \"primary_metric\": 0.86066041, \"best_metric\": 0.89325384}, {\"run_id\": \"AutoML_7864ded7-621a-42b1-a8e8-593d96f61793_8\", \"run_number\": 13, \"metric\": null, \"status\": \"Completed\", \"run_type\": \"azureml.scriptrun\", \"training_percent\": \"100\", \"start_time\": \"2021-04-22T05:11:05.712441Z\", \"end_time\": \"2021-04-22T05:11:49.138848Z\", \"created_time\": \"2021-04-22T05:10:51.349959Z\", \"created_time_dt\": \"2021-04-22T05:10:51.349959Z\", \"duration\": \"0:00:57\", \"iteration\": \"8\", \"goal\": \"AUC_weighted_max\", \"run_name\": \"MinMaxScaler, ExtremeRandomTrees\", \"run_properties\": \"copy=True, feature_range=(0, 1\", \"primary_metric\": 0.85515091, \"best_metric\": 0.89325384}, {\"run_id\": \"AutoML_7864ded7-621a-42b1-a8e8-593d96f61793_9\", \"run_number\": 14, \"metric\": null, \"status\": \"Completed\", \"run_type\": \"azureml.scriptrun\", \"training_percent\": \"100\", \"start_time\": \"2021-04-22T05:11:25.393467Z\", \"end_time\": \"2021-04-22T05:12:13.256641Z\", \"created_time\": \"2021-04-22T05:11:12.991694Z\", \"created_time_dt\": \"2021-04-22T05:11:12.991694Z\", \"duration\": \"0:01:00\", \"iteration\": \"9\", \"goal\": \"AUC_weighted_max\", \"run_name\": \"SparseNormalizer, KNN\", \"run_properties\": \"<azureml.automl.runtime.shared.model_wrappers.SparseNormalizer object at 0x7f589cc85780\", \"primary_metric\": 0.74287948, \"best_metric\": 0.89325384}, {\"run_id\": \"AutoML_7864ded7-621a-42b1-a8e8-593d96f61793_10\", \"run_number\": 15, \"metric\": null, \"status\": \"Completed\", \"run_type\": \"azureml.scriptrun\", \"training_percent\": \"100\", \"start_time\": \"2021-04-22T05:12:06.993699Z\", \"end_time\": \"2021-04-22T05:13:06.323972Z\", \"created_time\": \"2021-04-22T05:11:51.949187Z\", \"created_time_dt\": \"2021-04-22T05:11:51.949187Z\", \"duration\": \"0:01:14\", \"iteration\": \"10\", \"goal\": \"AUC_weighted_max\", \"run_name\": \"MinMaxScaler, ExtremeRandomTrees\", \"run_properties\": \"copy=True, feature_range=(0, 1\", \"primary_metric\": 0.85082112, \"best_metric\": 0.89325384}, {\"run_id\": \"AutoML_7864ded7-621a-42b1-a8e8-593d96f61793_11\", \"run_number\": 16, \"metric\": null, \"status\": \"Completed\", \"run_type\": \"azureml.scriptrun\", \"training_percent\": \"100\", \"start_time\": \"2021-04-22T05:12:29.684005Z\", \"end_time\": \"2021-04-22T05:13:15.470642Z\", \"created_time\": \"2021-04-22T05:12:16.1831Z\", \"created_time_dt\": \"2021-04-22T05:12:16.1831Z\", \"duration\": \"0:00:59\", \"iteration\": \"11\", \"goal\": \"AUC_weighted_max\", \"run_name\": \"RobustScaler, ExtremeRandomTrees\", \"run_properties\": \"copy=True, quantile_range=[10, 90], with_centering=True,\\n             with_scaling=False\", \"primary_metric\": 0.86560072, \"best_metric\": 0.89325384}, {\"run_id\": \"AutoML_7864ded7-621a-42b1-a8e8-593d96f61793_12\", \"run_number\": 17, \"metric\": null, \"status\": \"Completed\", \"run_type\": \"azureml.scriptrun\", \"training_percent\": \"100\", \"start_time\": \"2021-04-22T05:13:19.71002Z\", \"end_time\": \"2021-04-22T05:14:05.980562Z\", \"created_time\": \"2021-04-22T05:13:09.277295Z\", \"created_time_dt\": \"2021-04-22T05:13:09.277295Z\", \"duration\": \"0:00:56\", \"iteration\": \"12\", \"goal\": \"AUC_weighted_max\", \"run_name\": \"StandardScalerWrapper, RandomForest\", \"run_properties\": \"<azureml.automl.runtime.shared.model_wrappers.StandardScalerWrapper object at 0x7f9fce245048\", \"primary_metric\": 0.90170141, \"best_metric\": 0.90170141}, {\"run_id\": \"AutoML_7864ded7-621a-42b1-a8e8-593d96f61793_13\", \"run_number\": 18, \"metric\": null, \"status\": \"Completed\", \"run_type\": \"azureml.scriptrun\", \"training_percent\": \"100\", \"start_time\": \"2021-04-22T05:13:32.68679Z\", \"end_time\": \"2021-04-22T05:14:19.857939Z\", \"created_time\": \"2021-04-22T05:13:18.384883Z\", \"created_time_dt\": \"2021-04-22T05:13:18.384883Z\", \"duration\": \"0:01:01\", \"iteration\": \"13\", \"goal\": \"AUC_weighted_max\", \"run_name\": \"StandardScalerWrapper, SGD\", \"run_properties\": \"<azureml.automl.runtime.shared.model_wrappers.StandardScalerWrapper object at 0x7f9aed2e44a8\", \"primary_metric\": 0.85332821, \"best_metric\": 0.90170141}, {\"run_id\": \"AutoML_7864ded7-621a-42b1-a8e8-593d96f61793_14\", \"run_number\": 19, \"metric\": null, \"status\": \"Completed\", \"run_type\": \"azureml.scriptrun\", \"training_percent\": \"100\", \"start_time\": \"2021-04-22T05:13:48.881829Z\", \"end_time\": \"2021-04-22T05:14:32.348867Z\", \"created_time\": \"2021-04-22T05:13:35.662568Z\", \"created_time_dt\": \"2021-04-22T05:13:35.662568Z\", \"duration\": \"0:00:56\", \"iteration\": \"14\", \"goal\": \"AUC_weighted_max\", \"run_name\": \"RobustScaler, RandomForest\", \"run_properties\": \"copy=True, quantile_range=[10, 90], with_centering=True,\\n             with_scaling=False\", \"primary_metric\": 0.85657002, \"best_metric\": 0.90170141}, {\"run_id\": \"AutoML_7864ded7-621a-42b1-a8e8-593d96f61793_15\", \"run_number\": 20, \"metric\": null, \"status\": \"Completed\", \"run_type\": \"azureml.scriptrun\", \"training_percent\": \"100\", \"start_time\": \"2021-04-22T05:14:03.346719Z\", \"end_time\": \"2021-04-22T05:14:52.199523Z\", \"created_time\": \"2021-04-22T05:13:52.527705Z\", \"created_time_dt\": \"2021-04-22T05:13:52.527705Z\", \"duration\": \"0:00:59\", \"iteration\": \"15\", \"goal\": \"AUC_weighted_max\", \"run_name\": \"StandardScalerWrapper, KNN\", \"run_properties\": \"<azureml.automl.runtime.shared.model_wrappers.StandardScalerWrapper object at 0x7fdcf3bfd898\", \"primary_metric\": 0.51372353, \"best_metric\": 0.90170141}, {\"run_id\": \"AutoML_7864ded7-621a-42b1-a8e8-593d96f61793_16\", \"run_number\": 21, \"metric\": null, \"status\": \"Completed\", \"run_type\": \"azureml.scriptrun\", \"training_percent\": \"100\", \"start_time\": \"2021-04-22T05:14:22.534337Z\", \"end_time\": \"2021-04-22T05:15:06.432131Z\", \"created_time\": \"2021-04-22T05:14:09.136734Z\", \"created_time_dt\": \"2021-04-22T05:14:09.136734Z\", \"duration\": \"0:00:57\", \"iteration\": \"16\", \"goal\": \"AUC_weighted_max\", \"run_name\": \"MinMaxScaler, RandomForest\", \"run_properties\": \"copy=True, feature_range=(0, 1\", \"primary_metric\": 0.89729897, \"best_metric\": 0.90170141}, {\"run_id\": \"AutoML_7864ded7-621a-42b1-a8e8-593d96f61793_17\", \"run_number\": 22, \"metric\": null, \"status\": \"Completed\", \"run_type\": \"azureml.scriptrun\", \"training_percent\": \"100\", \"start_time\": \"2021-04-22T05:14:37.002016Z\", \"end_time\": \"2021-04-22T05:15:22.9255Z\", \"created_time\": \"2021-04-22T05:14:23.328619Z\", \"created_time_dt\": \"2021-04-22T05:14:23.328619Z\", \"duration\": \"0:00:59\", \"iteration\": \"17\", \"goal\": \"AUC_weighted_max\", \"run_name\": \"MinMaxScaler, ExtremeRandomTrees\", \"run_properties\": \"copy=True, feature_range=(0, 1\", \"primary_metric\": 0.81903963, \"best_metric\": 0.90170141}, {\"run_id\": \"AutoML_7864ded7-621a-42b1-a8e8-593d96f61793_18\", \"run_number\": 23, \"metric\": null, \"status\": \"Completed\", \"run_type\": \"azureml.scriptrun\", \"training_percent\": \"100\", \"start_time\": \"2021-04-22T05:14:50.375217Z\", \"end_time\": \"2021-04-22T05:15:33.771902Z\", \"created_time\": \"2021-04-22T05:14:36.033663Z\", \"created_time_dt\": \"2021-04-22T05:14:36.033663Z\", \"duration\": \"0:00:57\", \"iteration\": \"18\", \"goal\": \"AUC_weighted_max\", \"run_name\": \"MaxAbsScaler, RandomForest\", \"run_properties\": \"copy=True\", \"primary_metric\": 0.87948446, \"best_metric\": 0.90170141}, {\"run_id\": \"AutoML_7864ded7-621a-42b1-a8e8-593d96f61793_19\", \"run_number\": 24, \"metric\": null, \"status\": \"Completed\", \"run_type\": \"azureml.scriptrun\", \"training_percent\": \"100\", \"start_time\": \"2021-04-22T05:15:09.313606Z\", \"end_time\": \"2021-04-22T05:15:50.046709Z\", \"created_time\": \"2021-04-22T05:14:55.093261Z\", \"created_time_dt\": \"2021-04-22T05:14:55.093261Z\", \"duration\": \"0:00:54\", \"iteration\": \"19\", \"goal\": \"AUC_weighted_max\", \"run_name\": \"StandardScalerWrapper, XGBoostClassifier\", \"run_properties\": \"<azureml.automl.runtime.shared.model_wrappers.StandardScalerWrapper object at 0x7f0b77d4d6a0\", \"primary_metric\": 0.90193622, \"best_metric\": 0.90193622}, {\"run_id\": \"AutoML_7864ded7-621a-42b1-a8e8-593d96f61793_20\", \"run_number\": 25, \"metric\": null, \"status\": \"Completed\", \"run_type\": \"azureml.scriptrun\", \"training_percent\": \"100\", \"start_time\": \"2021-04-22T05:15:21.882013Z\", \"end_time\": \"2021-04-22T05:16:11.037043Z\", \"created_time\": \"2021-04-22T05:15:09.33782Z\", \"created_time_dt\": \"2021-04-22T05:15:09.33782Z\", \"duration\": \"0:01:01\", \"iteration\": \"20\", \"goal\": \"AUC_weighted_max\", \"run_name\": \"MaxAbsScaler, RandomForest\", \"run_properties\": \"copy=True\", \"primary_metric\": 0.87116529, \"best_metric\": 0.90193622}, {\"run_id\": \"AutoML_7864ded7-621a-42b1-a8e8-593d96f61793_21\", \"run_number\": 26, \"metric\": null, \"status\": \"Completed\", \"run_type\": \"azureml.scriptrun\", \"training_percent\": \"100\", \"start_time\": \"2021-04-22T05:15:38.831045Z\", \"end_time\": \"2021-04-22T05:16:25.198412Z\", \"created_time\": \"2021-04-22T05:15:26.309926Z\", \"created_time_dt\": \"2021-04-22T05:15:26.309926Z\", \"duration\": \"0:00:58\", \"iteration\": \"21\", \"goal\": \"AUC_weighted_max\", \"run_name\": \"MaxAbsScaler, ExtremeRandomTrees\", \"run_properties\": \"copy=True\", \"primary_metric\": 0.81295354, \"best_metric\": 0.90193622}, {\"run_id\": \"AutoML_7864ded7-621a-42b1-a8e8-593d96f61793_22\", \"run_number\": 27, \"metric\": null, \"status\": \"Completed\", \"run_type\": \"azureml.scriptrun\", \"training_percent\": \"100\", \"start_time\": \"2021-04-22T05:15:51.084775Z\", \"end_time\": \"2021-04-22T05:16:40.849496Z\", \"created_time\": \"2021-04-22T05:15:36.935339Z\", \"created_time_dt\": \"2021-04-22T05:15:36.935339Z\", \"duration\": \"0:01:03\", \"iteration\": \"22\", \"goal\": \"AUC_weighted_max\", \"run_name\": \"MaxAbsScaler, ExtremeRandomTrees\", \"run_properties\": \"copy=True\", \"primary_metric\": 0.85543899, \"best_metric\": 0.90193622}, {\"run_id\": \"AutoML_7864ded7-621a-42b1-a8e8-593d96f61793_23\", \"run_number\": 28, \"metric\": null, \"status\": \"Completed\", \"run_type\": \"azureml.scriptrun\", \"training_percent\": \"100\", \"start_time\": \"2021-04-22T05:16:05.163593Z\", \"end_time\": \"2021-04-22T05:16:50.833202Z\", \"created_time\": \"2021-04-22T05:15:54.570528Z\", \"created_time_dt\": \"2021-04-22T05:15:54.570528Z\", \"duration\": \"0:00:56\", \"iteration\": \"23\", \"goal\": \"AUC_weighted_max\", \"run_name\": \"MinMaxScaler, ExtremeRandomTrees\", \"run_properties\": \"copy=True, feature_range=(0, 1\", \"primary_metric\": 0.87403852, \"best_metric\": 0.90193622}, {\"run_id\": \"AutoML_7864ded7-621a-42b1-a8e8-593d96f61793_24\", \"run_number\": 29, \"metric\": null, \"status\": \"Completed\", \"run_type\": \"azureml.scriptrun\", \"training_percent\": \"100\", \"start_time\": \"2021-04-22T05:16:27.021913Z\", \"end_time\": \"2021-04-22T05:17:10.993898Z\", \"created_time\": \"2021-04-22T05:16:13.695171Z\", \"created_time_dt\": \"2021-04-22T05:16:13.695171Z\", \"duration\": \"0:00:57\", \"iteration\": \"24\", \"goal\": \"AUC_weighted_max\", \"run_name\": \"MaxAbsScaler, ExtremeRandomTrees\", \"run_properties\": \"copy=True\", \"primary_metric\": 0.87915975, \"best_metric\": 0.90193622}, {\"run_id\": \"AutoML_7864ded7-621a-42b1-a8e8-593d96f61793_25\", \"run_number\": 30, \"metric\": null, \"status\": \"Completed\", \"run_type\": \"azureml.scriptrun\", \"training_percent\": \"100\", \"start_time\": \"2021-04-22T05:16:40.103898Z\", \"end_time\": \"2021-04-22T05:17:25.190704Z\", \"created_time\": \"2021-04-22T05:16:28.774564Z\", \"created_time_dt\": \"2021-04-22T05:16:28.774564Z\", \"duration\": \"0:00:56\", \"iteration\": \"25\", \"goal\": \"AUC_weighted_max\", \"run_name\": \"TruncatedSVDWrapper, XGBoostClassifier\", \"run_properties\": \"n_components=0.20789473684210527, random_state=None\", \"primary_metric\": 0.49047619, \"best_metric\": 0.90193622}, {\"run_id\": \"AutoML_7864ded7-621a-42b1-a8e8-593d96f61793_26\", \"run_number\": 31, \"metric\": null, \"status\": \"Completed\", \"run_type\": \"azureml.scriptrun\", \"training_percent\": \"100\", \"start_time\": \"2021-04-22T05:16:57.38999Z\", \"end_time\": \"2021-04-22T05:17:44.099642Z\", \"created_time\": \"2021-04-22T05:16:43.294818Z\", \"created_time_dt\": \"2021-04-22T05:16:43.294818Z\", \"duration\": \"0:01:00\", \"iteration\": \"26\", \"goal\": \"AUC_weighted_max\", \"run_name\": \"StandardScalerWrapper, XGBoostClassifier\", \"run_properties\": \"<azureml.automl.runtime.shared.model_wrappers.StandardScalerWrapper object at 0x7f1032cf9048\", \"primary_metric\": 0.88540018, \"best_metric\": 0.90193622}, {\"run_id\": \"AutoML_7864ded7-621a-42b1-a8e8-593d96f61793_27\", \"run_number\": 32, \"metric\": null, \"status\": \"Completed\", \"run_type\": \"azureml.scriptrun\", \"training_percent\": \"100\", \"start_time\": \"2021-04-22T05:17:08.491752Z\", \"end_time\": \"2021-04-22T05:18:01.486521Z\", \"created_time\": \"2021-04-22T05:16:53.647589Z\", \"created_time_dt\": \"2021-04-22T05:16:53.647589Z\", \"duration\": \"0:01:07\", \"iteration\": \"27\", \"goal\": \"AUC_weighted_max\", \"run_name\": \"MinMaxScaler, RandomForest\", \"run_properties\": \"copy=True, feature_range=(0, 1\", \"primary_metric\": 0.89856112, \"best_metric\": 0.90193622}, {\"run_id\": \"AutoML_7864ded7-621a-42b1-a8e8-593d96f61793_28\", \"run_number\": 33, \"metric\": null, \"status\": \"Completed\", \"run_type\": \"azureml.scriptrun\", \"training_percent\": \"100\", \"start_time\": \"2021-04-22T05:17:26.808886Z\", \"end_time\": \"2021-04-22T05:18:15.537261Z\", \"created_time\": \"2021-04-22T05:17:13.325022Z\", \"created_time_dt\": \"2021-04-22T05:17:13.325022Z\", \"duration\": \"0:01:02\", \"iteration\": \"28\", \"goal\": \"AUC_weighted_max\", \"run_name\": \"RobustScaler, LightGBM\", \"run_properties\": \"copy=True, quantile_range=[10, 90], with_centering=True,\\n             with_scaling=True\", \"primary_metric\": 0.87503851, \"best_metric\": 0.90193622}, {\"run_id\": \"AutoML_7864ded7-621a-42b1-a8e8-593d96f61793_29\", \"run_number\": 34, \"metric\": null, \"status\": \"Completed\", \"run_type\": \"azureml.scriptrun\", \"training_percent\": \"100\", \"start_time\": \"2021-04-22T05:17:39.81201Z\", \"end_time\": \"2021-04-22T05:18:20.341414Z\", \"created_time\": \"2021-04-22T05:17:27.355305Z\", \"created_time_dt\": \"2021-04-22T05:17:27.355305Z\", \"duration\": \"0:00:52\", \"iteration\": \"29\", \"goal\": \"AUC_weighted_max\", \"run_name\": \"StandardScalerWrapper, XGBoostClassifier\", \"run_properties\": \"<azureml.automl.runtime.shared.model_wrappers.StandardScalerWrapper object at 0x7f3acd2efe10\", \"primary_metric\": 0.89174953, \"best_metric\": 0.90193622}, {\"run_id\": \"AutoML_7864ded7-621a-42b1-a8e8-593d96f61793_30\", \"run_number\": 35, \"metric\": null, \"status\": \"Completed\", \"run_type\": \"azureml.scriptrun\", \"training_percent\": \"100\", \"start_time\": \"2021-04-22T05:18:00.771324Z\", \"end_time\": \"2021-04-22T05:18:47.406007Z\", \"created_time\": \"2021-04-22T05:17:47.875295Z\", \"created_time_dt\": \"2021-04-22T05:17:47.875295Z\", \"duration\": \"0:00:59\", \"iteration\": \"30\", \"goal\": \"AUC_weighted_max\", \"run_name\": \"StandardScalerWrapper, XGBoostClassifier\", \"run_properties\": \"<azureml.automl.runtime.shared.model_wrappers.StandardScalerWrapper object at 0x7f385c9aed30\", \"primary_metric\": 0.88321684, \"best_metric\": 0.90193622}, {\"run_id\": \"AutoML_7864ded7-621a-42b1-a8e8-593d96f61793_31\", \"run_number\": 36, \"metric\": null, \"status\": \"Completed\", \"run_type\": \"azureml.scriptrun\", \"training_percent\": \"100\", \"start_time\": \"2021-04-22T05:18:19.268822Z\", \"end_time\": \"2021-04-22T05:19:11.949806Z\", \"created_time\": \"2021-04-22T05:18:03.490728Z\", \"created_time_dt\": \"2021-04-22T05:18:03.490728Z\", \"duration\": \"0:01:08\", \"iteration\": \"31\", \"goal\": \"AUC_weighted_max\", \"run_name\": \"StandardScalerWrapper, SVM\", \"run_properties\": \"<azureml.automl.runtime.shared.model_wrappers.StandardScalerWrapper object at 0x7f6f8454cba8\", \"primary_metric\": 0.8513052, \"best_metric\": 0.90193622}, {\"run_id\": \"AutoML_7864ded7-621a-42b1-a8e8-593d96f61793_32\", \"run_number\": 37, \"metric\": null, \"status\": \"Completed\", \"run_type\": \"azureml.scriptrun\", \"training_percent\": \"100\", \"start_time\": \"2021-04-22T05:18:31.280345Z\", \"end_time\": \"2021-04-22T05:19:17.986149Z\", \"created_time\": \"2021-04-22T05:18:17.571402Z\", \"created_time_dt\": \"2021-04-22T05:18:17.571402Z\", \"duration\": \"0:01:00\", \"iteration\": \"32\", \"goal\": \"AUC_weighted_max\", \"run_name\": \"StandardScalerWrapper, XGBoostClassifier\", \"run_properties\": \"<azureml.automl.runtime.shared.model_wrappers.StandardScalerWrapper object at 0x7f2820581cf8\", \"primary_metric\": 0.90803804, \"best_metric\": 0.90803804}, {\"run_id\": \"AutoML_7864ded7-621a-42b1-a8e8-593d96f61793_33\", \"run_number\": 38, \"metric\": null, \"status\": \"Completed\", \"run_type\": \"azureml.scriptrun\", \"training_percent\": \"100\", \"start_time\": \"2021-04-22T05:18:35.019545Z\", \"end_time\": \"2021-04-22T05:19:20.790394Z\", \"created_time\": \"2021-04-22T05:18:22.512741Z\", \"created_time_dt\": \"2021-04-22T05:18:22.512741Z\", \"duration\": \"0:00:58\", \"iteration\": \"33\", \"goal\": \"AUC_weighted_max\", \"run_name\": \"StandardScalerWrapper, LightGBM\", \"run_properties\": \"<azureml.automl.runtime.shared.model_wrappers.StandardScalerWrapper object at 0x7f785dcfeda0\", \"primary_metric\": 0.8791559, \"best_metric\": 0.90803804}, {\"run_id\": \"AutoML_7864ded7-621a-42b1-a8e8-593d96f61793_34\", \"run_number\": 39, \"metric\": null, \"status\": \"Completed\", \"run_type\": \"azureml.scriptrun\", \"training_percent\": \"100\", \"start_time\": \"2021-04-22T05:19:04.882226Z\", \"end_time\": \"2021-04-22T05:19:51.928304Z\", \"created_time\": \"2021-04-22T05:18:49.465679Z\", \"created_time_dt\": \"2021-04-22T05:18:49.465679Z\", \"duration\": \"0:01:02\", \"iteration\": \"34\", \"goal\": \"AUC_weighted_max\", \"run_name\": \"StandardScalerWrapper, XGBoostClassifier\", \"run_properties\": \"<azureml.automl.runtime.shared.model_wrappers.StandardScalerWrapper object at 0x7fbd8481e7f0\", \"primary_metric\": 0.89919609, \"best_metric\": 0.90803804}, {\"run_id\": \"AutoML_7864ded7-621a-42b1-a8e8-593d96f61793_35\", \"run_number\": 40, \"metric\": null, \"status\": \"Completed\", \"run_type\": \"azureml.scriptrun\", \"training_percent\": \"100\", \"start_time\": \"2021-04-22T05:19:27.731997Z\", \"end_time\": \"2021-04-22T05:20:14.488612Z\", \"created_time\": \"2021-04-22T05:19:15.007802Z\", \"created_time_dt\": \"2021-04-22T05:19:15.007802Z\", \"duration\": \"0:00:59\", \"iteration\": \"35\", \"goal\": \"AUC_weighted_max\", \"run_name\": \"StandardScalerWrapper, XGBoostClassifier\", \"run_properties\": \"<azureml.automl.runtime.shared.model_wrappers.StandardScalerWrapper object at 0x7f5b8e4facf8\", \"primary_metric\": 0.90144539, \"best_metric\": 0.90803804}, {\"run_id\": \"AutoML_7864ded7-621a-42b1-a8e8-593d96f61793_36\", \"run_number\": 41, \"metric\": null, \"status\": \"Completed\", \"run_type\": \"azureml.scriptrun\", \"training_percent\": \"100\", \"start_time\": \"2021-04-22T05:19:31.326796Z\", \"end_time\": \"2021-04-22T05:20:20.973635Z\", \"created_time\": \"2021-04-22T05:19:19.919346Z\", \"created_time_dt\": \"2021-04-22T05:19:19.919346Z\", \"duration\": \"0:01:01\", \"iteration\": \"36\", \"goal\": \"AUC_weighted_max\", \"run_name\": \"StandardScalerWrapper, RandomForest\", \"run_properties\": \"<azureml.automl.runtime.shared.model_wrappers.StandardScalerWrapper object at 0x7f2912c59c50\", \"primary_metric\": 0.8969791, \"best_metric\": 0.90803804}, {\"run_id\": \"AutoML_7864ded7-621a-42b1-a8e8-593d96f61793_37\", \"run_number\": 42, \"metric\": null, \"status\": \"Completed\", \"run_type\": \"azureml.scriptrun\", \"training_percent\": \"100\", \"start_time\": \"2021-04-22T05:19:36.231822Z\", \"end_time\": \"2021-04-22T05:20:24.91664Z\", \"created_time\": \"2021-04-22T05:19:23.598246Z\", \"created_time_dt\": \"2021-04-22T05:19:23.598246Z\", \"duration\": \"0:01:01\", \"iteration\": \"37\", \"goal\": \"AUC_weighted_max\", \"run_name\": \"StandardScalerWrapper, RandomForest\", \"run_properties\": \"<azureml.automl.runtime.shared.model_wrappers.StandardScalerWrapper object at 0x7fec15de3eb8\", \"primary_metric\": 0.90523479, \"best_metric\": 0.90803804}, {\"run_id\": \"AutoML_7864ded7-621a-42b1-a8e8-593d96f61793_38\", \"run_number\": 43, \"metric\": null, \"status\": \"Completed\", \"run_type\": \"azureml.scriptrun\", \"training_percent\": \"100\", \"start_time\": \"2021-04-22T05:20:07.872123Z\", \"end_time\": \"2021-04-22T05:20:54.372163Z\", \"created_time\": \"2021-04-22T05:19:54.36898Z\", \"created_time_dt\": \"2021-04-22T05:19:54.36898Z\", \"duration\": \"0:01:00\", \"iteration\": \"38\", \"goal\": \"AUC_weighted_max\", \"run_name\": \"MinMaxScaler, RandomForest\", \"run_properties\": \"copy=True, feature_range=(0, 1\", \"primary_metric\": 0.90711973, \"best_metric\": 0.90803804}, {\"run_id\": \"AutoML_7864ded7-621a-42b1-a8e8-593d96f61793_39\", \"run_number\": 44, \"metric\": null, \"status\": \"Completed\", \"run_type\": \"azureml.scriptrun\", \"training_percent\": \"100\", \"start_time\": \"2021-04-22T05:20:28.490668Z\", \"end_time\": \"2021-04-22T05:21:17.906735Z\", \"created_time\": \"2021-04-22T05:20:17.255199Z\", \"created_time_dt\": \"2021-04-22T05:20:17.255199Z\", \"duration\": \"0:01:00\", \"iteration\": \"39\", \"goal\": \"AUC_weighted_max\", \"run_name\": \"MinMaxScaler, RandomForest\", \"run_properties\": \"copy=True, feature_range=(0, 1\", \"primary_metric\": 0.88338422, \"best_metric\": 0.90803804}, {\"run_id\": \"AutoML_7864ded7-621a-42b1-a8e8-593d96f61793_40\", \"run_number\": 45, \"metric\": null, \"status\": \"Completed\", \"run_type\": \"azureml.scriptrun\", \"training_percent\": \"100\", \"start_time\": \"2021-04-22T05:20:38.684054Z\", \"end_time\": \"2021-04-22T05:21:34.1544Z\", \"created_time\": \"2021-04-22T05:20:26.169039Z\", \"created_time_dt\": \"2021-04-22T05:20:26.169039Z\", \"duration\": \"0:01:07\", \"iteration\": \"40\", \"goal\": \"AUC_weighted_max\", \"run_name\": \"StandardScalerWrapper, XGBoostClassifier\", \"run_properties\": \"<azureml.automl.runtime.shared.model_wrappers.StandardScalerWrapper object at 0x7f89f7eb8358\", \"primary_metric\": 0.88673925, \"best_metric\": 0.90803804}, {\"run_id\": \"AutoML_7864ded7-621a-42b1-a8e8-593d96f61793_41\", \"run_number\": 46, \"metric\": null, \"status\": \"Completed\", \"run_type\": \"azureml.scriptrun\", \"training_percent\": \"100\", \"start_time\": \"2021-04-22T05:20:42.792875Z\", \"end_time\": \"2021-04-22T05:21:39.555075Z\", \"created_time\": \"2021-04-22T05:20:31.154441Z\", \"created_time_dt\": \"2021-04-22T05:20:31.154441Z\", \"duration\": \"0:01:08\", \"iteration\": \"41\", \"goal\": \"AUC_weighted_max\", \"run_name\": \"RobustScaler, GradientBoosting\", \"run_properties\": \"copy=True, quantile_range=[10, 90], with_centering=False,\\n             with_scaling=True\", \"primary_metric\": 0.90166738, \"best_metric\": 0.90803804}, {\"run_id\": \"AutoML_7864ded7-621a-42b1-a8e8-593d96f61793_42\", \"run_number\": 47, \"metric\": null, \"status\": \"Completed\", \"run_type\": \"azureml.scriptrun\", \"training_percent\": \"100\", \"start_time\": \"2021-04-22T05:21:11.809658Z\", \"end_time\": \"2021-04-22T05:21:59.41706Z\", \"created_time\": \"2021-04-22T05:20:56.535019Z\", \"created_time_dt\": \"2021-04-22T05:20:56.535019Z\", \"duration\": \"0:01:02\", \"iteration\": \"42\", \"goal\": \"AUC_weighted_max\", \"run_name\": \"MaxAbsScaler, RandomForest\", \"run_properties\": \"copy=True\", \"primary_metric\": 0.9017802, \"best_metric\": 0.90803804}, {\"run_id\": \"AutoML_7864ded7-621a-42b1-a8e8-593d96f61793_43\", \"run_number\": 48, \"metric\": null, \"status\": \"Completed\", \"run_type\": \"azureml.scriptrun\", \"training_percent\": \"100\", \"start_time\": \"2021-04-22T05:21:31.350065Z\", \"end_time\": \"2021-04-22T05:22:20.045994Z\", \"created_time\": \"2021-04-22T05:21:20.358845Z\", \"created_time_dt\": \"2021-04-22T05:21:20.358845Z\", \"duration\": \"0:00:59\", \"iteration\": \"43\", \"goal\": \"AUC_weighted_max\", \"run_name\": \"StandardScalerWrapper, GradientBoosting\", \"run_properties\": \"<azureml.automl.runtime.shared.model_wrappers.StandardScalerWrapper object at 0x7fee2e1fdeb8\", \"primary_metric\": 0.90165367, \"best_metric\": 0.90803804}, {\"run_id\": \"AutoML_7864ded7-621a-42b1-a8e8-593d96f61793_44\", \"run_number\": 49, \"metric\": null, \"status\": \"Completed\", \"run_type\": \"azureml.scriptrun\", \"training_percent\": \"100\", \"start_time\": \"2021-04-22T05:21:49.85135Z\", \"end_time\": \"2021-04-22T05:22:36.496987Z\", \"created_time\": \"2021-04-22T05:21:36.538595Z\", \"created_time_dt\": \"2021-04-22T05:21:36.538595Z\", \"duration\": \"0:00:59\", \"iteration\": \"44\", \"goal\": \"AUC_weighted_max\", \"run_name\": \"StandardScalerWrapper, GradientBoosting\", \"run_properties\": \"<azureml.automl.runtime.shared.model_wrappers.StandardScalerWrapper object at 0x7fc79e6276a0\", \"primary_metric\": 0.89858775, \"best_metric\": 0.90803804}, {\"run_id\": \"AutoML_7864ded7-621a-42b1-a8e8-593d96f61793_45\", \"run_number\": 50, \"metric\": null, \"status\": \"Completed\", \"run_type\": \"azureml.scriptrun\", \"training_percent\": \"100\", \"start_time\": \"2021-04-22T05:21:53.646699Z\", \"end_time\": \"2021-04-22T05:22:36.255072Z\", \"created_time\": \"2021-04-22T05:21:42.996443Z\", \"created_time_dt\": \"2021-04-22T05:21:42.996443Z\", \"duration\": \"0:00:53\", \"iteration\": \"45\", \"goal\": \"AUC_weighted_max\", \"run_name\": \"PCA, XGBoostClassifier\", \"run_properties\": \"copy=True, iterated_power='auto', n_components=0.3563157894736842,\\n    random_state=None, svd_solver='auto', tol=0.0, whiten=False\", \"primary_metric\": 0.50665005, \"best_metric\": 0.90803804}, {\"run_id\": \"AutoML_7864ded7-621a-42b1-a8e8-593d96f61793_46\", \"run_number\": 51, \"metric\": null, \"status\": \"Canceled\", \"run_type\": \"azureml.scriptrun\", \"training_percent\": \"100\", \"start_time\": \"2021-04-22T05:22:13.608176Z\", \"end_time\": \"2021-04-22T05:22:46.017426Z\", \"created_time\": \"2021-04-22T05:22:02.148191Z\", \"created_time_dt\": \"2021-04-22T05:22:02.148191Z\", \"duration\": \"0:00:43\", \"iteration\": \"46\", \"goal\": \"AUC_weighted_max\", \"run_name\": \"StandardScalerWrapper, LightGBM\", \"run_properties\": \"<azureml.automl.runtime.shared.model_wrappers.StandardScalerWrapper object at 0x7fed62fc4860\", \"primary_metric\": 0.87512636, \"best_metric\": 0.90803804}, {\"run_id\": \"AutoML_7864ded7-621a-42b1-a8e8-593d96f61793_47\", \"run_number\": 52, \"metric\": null, \"status\": \"Canceled\", \"run_type\": \"azureml.scriptrun\", \"training_percent\": \"100\", \"start_time\": \"2021-04-22T05:22:36.091131Z\", \"end_time\": \"2021-04-22T05:22:45.806086Z\", \"created_time\": \"2021-04-22T05:22:22.356432Z\", \"created_time_dt\": \"2021-04-22T05:22:22.356432Z\", \"duration\": \"0:00:23\", \"iteration\": \"47\", \"goal\": null, \"run_name\": \"Canceled\", \"run_properties\": null}, {\"run_id\": \"AutoML_7864ded7-621a-42b1-a8e8-593d96f61793_49\", \"run_number\": 53, \"metric\": null, \"status\": \"Completed\", \"run_type\": \"azureml.scriptrun\", \"training_percent\": \"100\", \"start_time\": \"2021-04-22T05:22:54.946398Z\", \"end_time\": \"2021-04-22T05:24:16.387803Z\", \"created_time\": \"2021-04-22T05:22:46.802214Z\", \"created_time_dt\": \"2021-04-22T05:22:46.802214Z\", \"duration\": \"0:01:29\", \"iteration\": \"49\", \"goal\": \"AUC_weighted_max\", \"run_name\": \"StackEnsemble\", \"run_properties\": \"base_learners=[('32',\\n                                        Pipeline(memory=None,\\n                                                 steps=[('standardscalerwrapper',\\n                                                         <azureml.automl.runtime.shared.model_wrappers.StandardScalerWrapper object at 0x7f36480d3780>\", \"primary_metric\": 0.91268091, \"best_metric\": 0.91540876}, {\"run_id\": \"AutoML_7864ded7-621a-42b1-a8e8-593d96f61793_48\", \"run_number\": 54, \"metric\": null, \"status\": \"Completed\", \"run_type\": \"azureml.scriptrun\", \"training_percent\": \"100\", \"start_time\": \"2021-04-22T05:22:59.129796Z\", \"end_time\": \"2021-04-22T05:24:13.750477Z\", \"created_time\": \"2021-04-22T05:22:46.910153Z\", \"created_time_dt\": \"2021-04-22T05:22:46.910153Z\", \"duration\": \"0:01:26\", \"iteration\": \"48\", \"goal\": \"AUC_weighted_max\", \"run_name\": \"VotingEnsemble\", \"run_properties\": \"classification_labels=None,\\n                              estimators=[('32',\\n                                           Pipeline(memory=None,\\n                                                    steps=[('standardscalerwrapper',\\n                                                            <azureml.automl.runtime.shared.model_wrappers.StandardScalerWrapper object at 0x7f4b74131cc0>\", \"primary_metric\": 0.91540876, \"best_metric\": 0.91540876}], \"children_metrics\": {\"categories\": [0], \"series\": {\"norm_macro_recall\": [{\"categories\": [\"0\", \"1\", \"2\", \"3\", \"4\", \"5\", \"6\", \"7\", \"8\", \"9\", \"10\", \"11\", \"12\", \"13\", \"14\", \"15\", \"16\", \"17\", \"18\", \"19\", \"20\", \"21\", \"22\", \"23\", \"24\", \"25\", \"26\", \"27\", \"28\", \"29\", \"30\", \"31\", \"32\", \"33\", \"34\", \"35\", \"36\", \"37\", \"38\", \"39\", \"40\", \"41\", \"42\", \"43\", \"44\", \"45\", \"46\", \"48\", \"49\"], \"mode\": \"markers\", \"name\": \"norm_macro_recall\", \"stepped\": false, \"type\": \"scatter\", \"data\": [0.5331084779360642, 0.5799208075070145, 0.5993658683313856, 0.45115805460633046, 0.6273795963451135, 0.5767605043467113, 0.5806673668742635, 0.5273771308254068, 0.3918534297844643, 0.32769518286759663, 0.4097683890787338, 0.5304200752476614, 0.6214302972923663, 0.52888997371756, 0.5730425006287075, 0.029577360611843462, 0.4256557049660498, 0.5100366376228446, 0.6091411608652989, 0.5772467048329117, 0.5507290541773301, 0.5150160012228978, 0.5219061425957978, 0.5882404572059744, 0.6025261714916886, 0.0, 0.5890614752683719, 0.6423428354462837, 0.43339792994965415, 0.5858868720937687, 0.6038476900545866, 0.49499893982652604, 0.6026578302440372, 0.5868134143996214, 0.616797585763103, 0.6236615926271099, 0.5866388556043729, 0.6356104873346252, 0.6877281222108809, 0.6059665576906957, 0.582858227685814, 0.5978816254678323, 0.5993372683027856, 0.6130938820593993, 0.6107259969328935, 0.03254091529953603, 0.6018027880096846, 0.6125504815159987, 0.3625231142472522]}, {\"categories\": [\"0\", \"1\", \"2\", \"3\", \"4\", \"5\", \"6\", \"7\", \"8\", \"9\", \"10\", \"11\", \"12\", \"13\", \"14\", \"15\", \"16\", \"17\", \"18\", \"19\", \"20\", \"21\", \"22\", \"23\", \"24\", \"25\", \"26\", \"27\", \"28\", \"29\", \"30\", \"31\", \"32\", \"33\", \"34\", \"35\", \"36\", \"37\", \"38\", \"39\", \"40\", \"41\", \"42\", \"43\", \"44\", \"45\", \"46\", \"48\", \"49\"], \"mode\": \"lines\", \"name\": \"norm_macro_recall_max\", \"stepped\": true, \"type\": \"scatter\", \"data\": [0.5331084779360642, 0.5799208075070145, 0.5993658683313856, 0.5993658683313856, 0.6273795963451135, 0.6273795963451135, 0.6273795963451135, 0.6273795963451135, 0.6273795963451135, 0.6273795963451135, 0.6273795963451135, 0.6273795963451135, 0.6273795963451135, 0.6273795963451135, 0.6273795963451135, 0.6273795963451135, 0.6273795963451135, 0.6273795963451135, 0.6273795963451135, 0.6273795963451135, 0.6273795963451135, 0.6273795963451135, 0.6273795963451135, 0.6273795963451135, 0.6273795963451135, 0.6273795963451135, 0.6273795963451135, 0.6423428354462837, 0.6423428354462837, 0.6423428354462837, 0.6423428354462837, 0.6423428354462837, 0.6423428354462837, 0.6423428354462837, 0.6423428354462837, 0.6423428354462837, 0.6423428354462837, 0.6423428354462837, 0.6877281222108809, 0.6877281222108809, 0.6877281222108809, 0.6877281222108809, 0.6877281222108809, 0.6877281222108809, 0.6877281222108809, 0.6877281222108809, 0.6877281222108809, 0.6877281222108809, 0.6877281222108809]}], \"average_precision_score_micro\": [{\"categories\": [\"0\", \"1\", \"2\", \"3\", \"4\", \"5\", \"6\", \"7\", \"8\", \"9\", \"10\", \"11\", \"12\", \"13\", \"14\", \"15\", \"16\", \"17\", \"18\", \"19\", \"20\", \"21\", \"22\", \"23\", \"24\", \"25\", \"26\", \"27\", \"28\", \"29\", \"30\", \"31\", \"32\", \"33\", \"34\", \"35\", \"36\", \"37\", \"38\", \"39\", \"40\", \"41\", \"42\", \"43\", \"44\", \"45\", \"46\", \"48\", \"49\"], \"mode\": \"markers\", \"name\": \"average_precision_score_micro\", \"stepped\": false, \"type\": \"scatter\", \"data\": [0.8707751210307144, 0.8886385174313017, 0.9006040879038951, 0.8774755956544834, 0.9033938813744511, 0.8961589853099593, 0.9013662914360387, 0.8753928064275623, 0.8550179028831919, 0.8013049423128679, 0.8618344418269718, 0.8801718801500159, 0.8891187848453761, 0.8746046217164686, 0.8594547651423032, 0.6374584451712854, 0.8967493072110125, 0.8302846529878943, 0.874443966371515, 0.9075695883222766, 0.8868575257890171, 0.8258439241188412, 0.8744722819718965, 0.8855099852699978, 0.8906385420218607, 0.6226729608441949, 0.8973110683393571, 0.8948797182558131, 0.8786198565495749, 0.9012097957300179, 0.890572023054455, 0.8737345402798559, 0.9145963239007927, 0.8911507388414209, 0.9067441423250676, 0.9086082832978953, 0.9045089000215869, 0.9012049409553379, 0.9049748091173759, 0.8746330936832445, 0.8962666774321639, 0.9139841806867315, 0.908127722836646, 0.9111661664004943, 0.9083879083561343, 0.6420681370173867, 0.8892407537912946, 0.9171878209299923, 0.8907771643282375]}, {\"categories\": [\"0\", \"1\", \"2\", \"3\", \"4\", \"5\", \"6\", \"7\", \"8\", \"9\", \"10\", \"11\", \"12\", \"13\", \"14\", \"15\", \"16\", \"17\", \"18\", \"19\", \"20\", \"21\", \"22\", \"23\", \"24\", \"25\", \"26\", \"27\", \"28\", \"29\", \"30\", \"31\", \"32\", \"33\", \"34\", \"35\", \"36\", \"37\", \"38\", \"39\", \"40\", \"41\", \"42\", \"43\", \"44\", \"45\", \"46\", \"48\", \"49\"], \"mode\": \"lines\", \"name\": \"average_precision_score_micro_max\", \"stepped\": true, \"type\": \"scatter\", \"data\": [0.8707751210307144, 0.8886385174313017, 0.9006040879038951, 0.9006040879038951, 0.9033938813744511, 0.9033938813744511, 0.9033938813744511, 0.9033938813744511, 0.9033938813744511, 0.9033938813744511, 0.9033938813744511, 0.9033938813744511, 0.9033938813744511, 0.9033938813744511, 0.9033938813744511, 0.9033938813744511, 0.9033938813744511, 0.9033938813744511, 0.9033938813744511, 0.9075695883222766, 0.9075695883222766, 0.9075695883222766, 0.9075695883222766, 0.9075695883222766, 0.9075695883222766, 0.9075695883222766, 0.9075695883222766, 0.9075695883222766, 0.9075695883222766, 0.9075695883222766, 0.9075695883222766, 0.9075695883222766, 0.9145963239007927, 0.9145963239007927, 0.9145963239007927, 0.9145963239007927, 0.9145963239007927, 0.9145963239007927, 0.9145963239007927, 0.9145963239007927, 0.9145963239007927, 0.9145963239007927, 0.9145963239007927, 0.9145963239007927, 0.9145963239007927, 0.9145963239007927, 0.9145963239007927, 0.9171878209299923, 0.9171878209299923]}], \"f1_score_weighted\": [{\"categories\": [\"0\", \"1\", \"2\", \"3\", \"4\", \"5\", \"6\", \"7\", \"8\", \"9\", \"10\", \"11\", \"12\", \"13\", \"14\", \"15\", \"16\", \"17\", \"18\", \"19\", \"20\", \"21\", \"22\", \"23\", \"24\", \"25\", \"26\", \"27\", \"28\", \"29\", \"30\", \"31\", \"32\", \"33\", \"34\", \"35\", \"36\", \"37\", \"38\", \"39\", \"40\", \"41\", \"42\", \"43\", \"44\", \"45\", \"46\", \"48\", \"49\"], \"mode\": \"markers\", \"name\": \"f1_score_weighted\", \"stepped\": false, \"type\": \"scatter\", \"data\": [0.7994850745596541, 0.8173118768300475, 0.8275220430017588, 0.7852404547120844, 0.8421878218627116, 0.8231221500072884, 0.8220727416661348, 0.808818255096408, 0.7513144448906673, 0.7355602362295727, 0.7676776158236897, 0.8131809085566063, 0.8034416433950254, 0.8025908000203451, 0.8059624186757656, 0.5851849796475244, 0.7733864763983463, 0.7752764681536218, 0.8084956766635688, 0.8185845472127792, 0.8120839043460757, 0.7812166222770219, 0.8029215800631729, 0.8149507749909004, 0.8242604817232904, 0.5497345001811592, 0.8257980157927487, 0.8279226452559786, 0.7814002667901887, 0.8202770810458606, 0.8396867430710269, 0.787853645804783, 0.8289853399428854, 0.8266517417528995, 0.8385956791834124, 0.8413416340928531, 0.8228308866334272, 0.8276941700275033, 0.8451349391122401, 0.814244543879093, 0.8252915141675302, 0.8280239279168473, 0.8238628711355984, 0.8326593778817127, 0.839832074804196, 0.5791014182226303, 0.8282771706777324, 0.837717368489018, 0.7245266249640657]}, {\"categories\": [\"0\", \"1\", \"2\", \"3\", \"4\", \"5\", \"6\", \"7\", \"8\", \"9\", \"10\", \"11\", \"12\", \"13\", \"14\", \"15\", \"16\", \"17\", \"18\", \"19\", \"20\", \"21\", \"22\", \"23\", \"24\", \"25\", \"26\", \"27\", \"28\", \"29\", \"30\", \"31\", \"32\", \"33\", \"34\", \"35\", \"36\", \"37\", \"38\", \"39\", \"40\", \"41\", \"42\", \"43\", \"44\", \"45\", \"46\", \"48\", \"49\"], \"mode\": \"lines\", \"name\": \"f1_score_weighted_max\", \"stepped\": true, \"type\": \"scatter\", \"data\": [0.7994850745596541, 0.8173118768300475, 0.8275220430017588, 0.8275220430017588, 0.8421878218627116, 0.8421878218627116, 0.8421878218627116, 0.8421878218627116, 0.8421878218627116, 0.8421878218627116, 0.8421878218627116, 0.8421878218627116, 0.8421878218627116, 0.8421878218627116, 0.8421878218627116, 0.8421878218627116, 0.8421878218627116, 0.8421878218627116, 0.8421878218627116, 0.8421878218627116, 0.8421878218627116, 0.8421878218627116, 0.8421878218627116, 0.8421878218627116, 0.8421878218627116, 0.8421878218627116, 0.8421878218627116, 0.8421878218627116, 0.8421878218627116, 0.8421878218627116, 0.8421878218627116, 0.8421878218627116, 0.8421878218627116, 0.8421878218627116, 0.8421878218627116, 0.8421878218627116, 0.8421878218627116, 0.8421878218627116, 0.8451349391122401, 0.8451349391122401, 0.8451349391122401, 0.8451349391122401, 0.8451349391122401, 0.8451349391122401, 0.8451349391122401, 0.8451349391122401, 0.8451349391122401, 0.8451349391122401, 0.8451349391122401]}], \"f1_score_micro\": [{\"categories\": [\"0\", \"1\", \"2\", \"3\", \"4\", \"5\", \"6\", \"7\", \"8\", \"9\", \"10\", \"11\", \"12\", \"13\", \"14\", \"15\", \"16\", \"17\", \"18\", \"19\", \"20\", \"21\", \"22\", \"23\", \"24\", \"25\", \"26\", \"27\", \"28\", \"29\", \"30\", \"31\", \"32\", \"33\", \"34\", \"35\", \"36\", \"37\", \"38\", \"39\", \"40\", \"41\", \"42\", \"43\", \"44\", \"45\", \"46\", \"48\", \"49\"], \"mode\": \"markers\", \"name\": \"f1_score_micro\", \"stepped\": false, \"type\": \"scatter\", \"data\": [0.8025252525252525, 0.8192929292929293, 0.8293265993265994, 0.8026936026936027, 0.8460942760942761, 0.8259595959595959, 0.8225589225589225, 0.8193602693602693, 0.7825589225589226, 0.7591919191919191, 0.7892592592592592, 0.8226599326599326, 0.7990909090909092, 0.8058585858585859, 0.8057912457912458, 0.6253535353535353, 0.7925589225589226, 0.7757912457912458, 0.8057912457912457, 0.8226262626262626, 0.8158585858585857, 0.779090909090909, 0.8092255892255893, 0.8159932659932659, 0.826026936026936, 0.6790235690235691, 0.8293602693602692, 0.8258585858585858, 0.7992592592592592, 0.8225589225589225, 0.8460942760942761, 0.7925252525252525, 0.8326936026936026, 0.8292929292929293, 0.8427609427609428, 0.8460606060606062, 0.825959595959596, 0.8258585858585858, 0.8426262626262626, 0.8125589225589226, 0.8292929292929293, 0.8327272727272729, 0.8258585858585858, 0.8360942760942761, 0.8460942760942762, 0.6823569023569024, 0.8292929292929293, 0.8427609427609428, 0.7693939393939394]}, {\"categories\": [\"0\", \"1\", \"2\", \"3\", \"4\", \"5\", \"6\", \"7\", \"8\", \"9\", \"10\", \"11\", \"12\", \"13\", \"14\", \"15\", \"16\", \"17\", \"18\", \"19\", \"20\", \"21\", \"22\", \"23\", \"24\", \"25\", \"26\", \"27\", \"28\", \"29\", \"30\", \"31\", \"32\", \"33\", \"34\", \"35\", \"36\", \"37\", \"38\", \"39\", \"40\", \"41\", \"42\", \"43\", \"44\", \"45\", \"46\", \"48\", \"49\"], \"mode\": \"lines\", \"name\": \"f1_score_micro_max\", \"stepped\": true, \"type\": \"scatter\", \"data\": [0.8025252525252525, 0.8192929292929293, 0.8293265993265994, 0.8293265993265994, 0.8460942760942761, 0.8460942760942761, 0.8460942760942761, 0.8460942760942761, 0.8460942760942761, 0.8460942760942761, 0.8460942760942761, 0.8460942760942761, 0.8460942760942761, 0.8460942760942761, 0.8460942760942761, 0.8460942760942761, 0.8460942760942761, 0.8460942760942761, 0.8460942760942761, 0.8460942760942761, 0.8460942760942761, 0.8460942760942761, 0.8460942760942761, 0.8460942760942761, 0.8460942760942761, 0.8460942760942761, 0.8460942760942761, 0.8460942760942761, 0.8460942760942761, 0.8460942760942761, 0.8460942760942761, 0.8460942760942761, 0.8460942760942761, 0.8460942760942761, 0.8460942760942761, 0.8460942760942761, 0.8460942760942761, 0.8460942760942761, 0.8460942760942761, 0.8460942760942761, 0.8460942760942761, 0.8460942760942761, 0.8460942760942761, 0.8460942760942761, 0.8460942760942762, 0.8460942760942762, 0.8460942760942762, 0.8460942760942762, 0.8460942760942762]}], \"accuracy\": [{\"categories\": [\"0\", \"1\", \"2\", \"3\", \"4\", \"5\", \"6\", \"7\", \"8\", \"9\", \"10\", \"11\", \"12\", \"13\", \"14\", \"15\", \"16\", \"17\", \"18\", \"19\", \"20\", \"21\", \"22\", \"23\", \"24\", \"25\", \"26\", \"27\", \"28\", \"29\", \"30\", \"31\", \"32\", \"33\", \"34\", \"35\", \"36\", \"37\", \"38\", \"39\", \"40\", \"41\", \"42\", \"43\", \"44\", \"45\", \"46\", \"48\", \"49\"], \"mode\": \"markers\", \"name\": \"accuracy\", \"stepped\": false, \"type\": \"scatter\", \"data\": [0.8025252525252524, 0.8192929292929293, 0.8293265993265994, 0.8026936026936027, 0.8460942760942761, 0.8259595959595959, 0.8225589225589225, 0.8193602693602693, 0.7825589225589226, 0.7591919191919191, 0.7892592592592592, 0.8226599326599326, 0.7990909090909092, 0.8058585858585859, 0.8057912457912458, 0.6253535353535353, 0.7925589225589226, 0.7757912457912458, 0.8057912457912457, 0.8226262626262626, 0.8158585858585857, 0.779090909090909, 0.8092255892255893, 0.8159932659932659, 0.826026936026936, 0.6790235690235691, 0.8293602693602694, 0.8258585858585858, 0.7992592592592592, 0.8225589225589225, 0.8460942760942761, 0.7925252525252526, 0.8326936026936026, 0.8292929292929293, 0.8427609427609428, 0.8460606060606062, 0.8259595959595959, 0.8258585858585858, 0.8426262626262626, 0.8125589225589226, 0.8292929292929293, 0.8327272727272729, 0.8258585858585858, 0.8360942760942761, 0.8460942760942761, 0.6823569023569024, 0.8292929292929293, 0.8427609427609428, 0.7693939393939394]}, {\"categories\": [\"0\", \"1\", \"2\", \"3\", \"4\", \"5\", \"6\", \"7\", \"8\", \"9\", \"10\", \"11\", \"12\", \"13\", \"14\", \"15\", \"16\", \"17\", \"18\", \"19\", \"20\", \"21\", \"22\", \"23\", \"24\", \"25\", \"26\", \"27\", \"28\", \"29\", \"30\", \"31\", \"32\", \"33\", \"34\", \"35\", \"36\", \"37\", \"38\", \"39\", \"40\", \"41\", \"42\", \"43\", \"44\", \"45\", \"46\", \"48\", \"49\"], \"mode\": \"lines\", \"name\": \"accuracy_max\", \"stepped\": true, \"type\": \"scatter\", \"data\": [0.8025252525252524, 0.8192929292929293, 0.8293265993265994, 0.8293265993265994, 0.8460942760942761, 0.8460942760942761, 0.8460942760942761, 0.8460942760942761, 0.8460942760942761, 0.8460942760942761, 0.8460942760942761, 0.8460942760942761, 0.8460942760942761, 0.8460942760942761, 0.8460942760942761, 0.8460942760942761, 0.8460942760942761, 0.8460942760942761, 0.8460942760942761, 0.8460942760942761, 0.8460942760942761, 0.8460942760942761, 0.8460942760942761, 0.8460942760942761, 0.8460942760942761, 0.8460942760942761, 0.8460942760942761, 0.8460942760942761, 0.8460942760942761, 0.8460942760942761, 0.8460942760942761, 0.8460942760942761, 0.8460942760942761, 0.8460942760942761, 0.8460942760942761, 0.8460942760942761, 0.8460942760942761, 0.8460942760942761, 0.8460942760942761, 0.8460942760942761, 0.8460942760942761, 0.8460942760942761, 0.8460942760942761, 0.8460942760942761, 0.8460942760942761, 0.8460942760942761, 0.8460942760942761, 0.8460942760942761, 0.8460942760942761]}], \"precision_score_macro\": [{\"categories\": [\"0\", \"1\", \"2\", \"3\", \"4\", \"5\", \"6\", \"7\", \"8\", \"9\", \"10\", \"11\", \"12\", \"13\", \"14\", \"15\", \"16\", \"17\", \"18\", \"19\", \"20\", \"21\", \"22\", \"23\", \"24\", \"25\", \"26\", \"27\", \"28\", \"29\", \"30\", \"31\", \"32\", \"33\", \"34\", \"35\", \"36\", \"37\", \"38\", \"39\", \"40\", \"41\", \"42\", \"43\", \"44\", \"45\", \"46\", \"48\", \"49\"], \"mode\": \"markers\", \"name\": \"precision_score_macro\", \"stepped\": false, \"type\": \"scatter\", \"data\": [0.7842311567478019, 0.7983113869170717, 0.812148062148062, 0.8215392688240607, 0.8338718172242201, 0.816388803238905, 0.7999941185829451, 0.8175551684088269, 0.8176289150258117, 0.7484261940009526, 0.8073870984235977, 0.8263120853541652, 0.7909467120181407, 0.7866917161129684, 0.7837736745680391, 0.5237733537391072, 0.8118234159264276, 0.7484420679985195, 0.7924130933980141, 0.8095877699075769, 0.8043267134037925, 0.7491936168406758, 0.7892032471313861, 0.7943916381416383, 0.8054038213580575, 0.33951178451178454, 0.8170856950845063, 0.8117859745766722, 0.8061001217748943, 0.8089745601453764, 0.8416771267798665, 0.7727001963605792, 0.8219123161578404, 0.8158129984995656, 0.8324581215885564, 0.8388088541418717, 0.8144058828336201, 0.8098982267926759, 0.8265995318626898, 0.7954311256484076, 0.8200489511189533, 0.8203546953418286, 0.8161408526064907, 0.8203140648604975, 0.8419058993036751, 0.6209521717893162, 0.8121949469775557, 0.8347619223645998, 0.6493766650016649]}, {\"categories\": [\"0\", \"1\", \"2\", \"3\", \"4\", \"5\", \"6\", \"7\", \"8\", \"9\", \"10\", \"11\", \"12\", \"13\", \"14\", \"15\", \"16\", \"17\", \"18\", \"19\", \"20\", \"21\", \"22\", \"23\", \"24\", \"25\", \"26\", \"27\", \"28\", \"29\", \"30\", \"31\", \"32\", \"33\", \"34\", \"35\", \"36\", \"37\", \"38\", \"39\", \"40\", \"41\", \"42\", \"43\", \"44\", \"45\", \"46\", \"48\", \"49\"], \"mode\": \"lines\", \"name\": \"precision_score_macro_max\", \"stepped\": true, \"type\": \"scatter\", \"data\": [0.7842311567478019, 0.7983113869170717, 0.812148062148062, 0.8215392688240607, 0.8338718172242201, 0.8338718172242201, 0.8338718172242201, 0.8338718172242201, 0.8338718172242201, 0.8338718172242201, 0.8338718172242201, 0.8338718172242201, 0.8338718172242201, 0.8338718172242201, 0.8338718172242201, 0.8338718172242201, 0.8338718172242201, 0.8338718172242201, 0.8338718172242201, 0.8338718172242201, 0.8338718172242201, 0.8338718172242201, 0.8338718172242201, 0.8338718172242201, 0.8338718172242201, 0.8338718172242201, 0.8338718172242201, 0.8338718172242201, 0.8338718172242201, 0.8338718172242201, 0.8416771267798665, 0.8416771267798665, 0.8416771267798665, 0.8416771267798665, 0.8416771267798665, 0.8416771267798665, 0.8416771267798665, 0.8416771267798665, 0.8416771267798665, 0.8416771267798665, 0.8416771267798665, 0.8416771267798665, 0.8416771267798665, 0.8416771267798665, 0.8419058993036751, 0.8419058993036751, 0.8419058993036751, 0.8419058993036751, 0.8419058993036751]}], \"log_loss\": [{\"categories\": [\"0\", \"1\", \"2\", \"3\", \"4\", \"5\", \"6\", \"7\", \"8\", \"9\", \"10\", \"11\", \"12\", \"13\", \"14\", \"15\", \"16\", \"17\", \"18\", \"19\", \"20\", \"21\", \"22\", \"23\", \"24\", \"25\", \"26\", \"27\", \"28\", \"29\", \"30\", \"31\", \"32\", \"33\", \"34\", \"35\", \"36\", \"37\", \"38\", \"39\", \"40\", \"41\", \"42\", \"43\", \"44\", \"45\", \"46\", \"48\", \"49\"], \"mode\": \"markers\", \"name\": \"log_loss\", \"stepped\": false, \"type\": \"scatter\", \"data\": [0.5791360620615199, 0.4649911805096085, 0.4057652426649872, 0.4682824532399923, 0.39760313726143176, 0.4153115181806679, 0.4873122159396037, 0.4540416689567051, 0.4874635409338344, 0.6612735807862148, 0.49469162406958117, 0.4576818743061841, 0.4394693930539452, 0.44402120096119546, 0.47500636299390786, 0.7616790731441997, 0.4628557057493486, 0.627112522637862, 0.52746496429149, 0.4768267215011312, 0.4207540917086656, 0.544935088784436, 0.48349467932651474, 0.4230491354261235, 0.4351621097626597, 0.6328130183054491, 0.4544203380873079, 0.47561524618909945, 0.48095517319067366, 0.41731067993986654, 0.4239860772949478, 0.4476132691557337, 0.39468045028051096, 0.4175228689696345, 0.38290451632379524, 0.4182465782963492, 0.40913094939555483, 0.4729833094573614, 0.4981892602961861, 0.4342407659263318, 0.48345093521039023, 0.37736023234463784, 0.3964822673026589, 0.3816916252644069, 0.3818148969786812, 0.6400361716632398, 0.44397381225636856, 0.4552279265517129, 0.5014417957444698]}, {\"categories\": [\"0\", \"1\", \"2\", \"3\", \"4\", \"5\", \"6\", \"7\", \"8\", \"9\", \"10\", \"11\", \"12\", \"13\", \"14\", \"15\", \"16\", \"17\", \"18\", \"19\", \"20\", \"21\", \"22\", \"23\", \"24\", \"25\", \"26\", \"27\", \"28\", \"29\", \"30\", \"31\", \"32\", \"33\", \"34\", \"35\", \"36\", \"37\", \"38\", \"39\", \"40\", \"41\", \"42\", \"43\", \"44\", \"45\", \"46\", \"48\", \"49\"], \"mode\": \"lines\", \"name\": \"log_loss_min\", \"stepped\": true, \"type\": \"scatter\", \"data\": [0.5791360620615199, 0.4649911805096085, 0.4057652426649872, 0.4057652426649872, 0.39760313726143176, 0.39760313726143176, 0.39760313726143176, 0.39760313726143176, 0.39760313726143176, 0.39760313726143176, 0.39760313726143176, 0.39760313726143176, 0.39760313726143176, 0.39760313726143176, 0.39760313726143176, 0.39760313726143176, 0.39760313726143176, 0.39760313726143176, 0.39760313726143176, 0.39760313726143176, 0.39760313726143176, 0.39760313726143176, 0.39760313726143176, 0.39760313726143176, 0.39760313726143176, 0.39760313726143176, 0.39760313726143176, 0.39760313726143176, 0.39760313726143176, 0.39760313726143176, 0.39760313726143176, 0.39760313726143176, 0.39468045028051096, 0.39468045028051096, 0.38290451632379524, 0.38290451632379524, 0.38290451632379524, 0.38290451632379524, 0.38290451632379524, 0.38290451632379524, 0.38290451632379524, 0.37736023234463784, 0.37736023234463784, 0.37736023234463784, 0.37736023234463784, 0.37736023234463784, 0.37736023234463784, 0.37736023234463784, 0.37736023234463784]}], \"average_precision_score_weighted\": [{\"categories\": [\"0\", \"1\", \"2\", \"3\", \"4\", \"5\", \"6\", \"7\", \"8\", \"9\", \"10\", \"11\", \"12\", \"13\", \"14\", \"15\", \"16\", \"17\", \"18\", \"19\", \"20\", \"21\", \"22\", \"23\", \"24\", \"25\", \"26\", \"27\", \"28\", \"29\", \"30\", \"31\", \"32\", \"33\", \"34\", \"35\", \"36\", \"37\", \"38\", \"39\", \"40\", \"41\", \"42\", \"43\", \"44\", \"45\", \"46\", \"48\", \"49\"], \"mode\": \"markers\", \"name\": \"average_precision_score_weighted\", \"stepped\": false, \"type\": \"scatter\", \"data\": [0.8648843990393956, 0.8836277505100775, 0.8997089913305737, 0.8854545338777995, 0.9028043599665869, 0.9023487558381494, 0.8933401398540463, 0.8752977055627104, 0.8685175527022468, 0.7835446724988807, 0.8632286793872078, 0.8770654262421074, 0.9074735650976695, 0.870081372627938, 0.8679019446947752, 0.6024429208431216, 0.9032127235098213, 0.8371304402202341, 0.8855087584462025, 0.9047628212695193, 0.8836845589627461, 0.8280473863441311, 0.8675331263183792, 0.8854529521997097, 0.8896233366145411, 0.5627120885328175, 0.8932796719600365, 0.9031814077683449, 0.8847679790358973, 0.8977024958357607, 0.8923187437561597, 0.8662624575057704, 0.9133717497451314, 0.8851887801677676, 0.9034755710162757, 0.910986440459344, 0.9016968178371073, 0.909904596764446, 0.9110979606389069, 0.8857336962003689, 0.8932870753836027, 0.9120662352534823, 0.9093637727194731, 0.9098365485514627, 0.9089145468777219, 0.5765626466068108, 0.8819298457116719, 0.9218023781812907, 0.9190478087738893]}, {\"categories\": [\"0\", \"1\", \"2\", \"3\", \"4\", \"5\", \"6\", \"7\", \"8\", \"9\", \"10\", \"11\", \"12\", \"13\", \"14\", \"15\", \"16\", \"17\", \"18\", \"19\", \"20\", \"21\", \"22\", \"23\", \"24\", \"25\", \"26\", \"27\", \"28\", \"29\", \"30\", \"31\", \"32\", \"33\", \"34\", \"35\", \"36\", \"37\", \"38\", \"39\", \"40\", \"41\", \"42\", \"43\", \"44\", \"45\", \"46\", \"48\", \"49\"], \"mode\": \"lines\", \"name\": \"average_precision_score_weighted_max\", \"stepped\": true, \"type\": \"scatter\", \"data\": [0.8648843990393956, 0.8836277505100775, 0.8997089913305737, 0.8997089913305737, 0.9028043599665869, 0.9028043599665869, 0.9028043599665869, 0.9028043599665869, 0.9028043599665869, 0.9028043599665869, 0.9028043599665869, 0.9028043599665869, 0.9074735650976695, 0.9074735650976695, 0.9074735650976695, 0.9074735650976695, 0.9074735650976695, 0.9074735650976695, 0.9074735650976695, 0.9074735650976695, 0.9074735650976695, 0.9074735650976695, 0.9074735650976695, 0.9074735650976695, 0.9074735650976695, 0.9074735650976695, 0.9074735650976695, 0.9074735650976695, 0.9074735650976695, 0.9074735650976695, 0.9074735650976695, 0.9074735650976695, 0.9133717497451314, 0.9133717497451314, 0.9133717497451314, 0.9133717497451314, 0.9133717497451314, 0.9133717497451314, 0.9133717497451314, 0.9133717497451314, 0.9133717497451314, 0.9133717497451314, 0.9133717497451314, 0.9133717497451314, 0.9133717497451314, 0.9133717497451314, 0.9133717497451314, 0.9218023781812907, 0.9218023781812907]}], \"AUC_weighted\": [{\"categories\": [\"0\", \"1\", \"2\", \"3\", \"4\", \"5\", \"6\", \"7\", \"8\", \"9\", \"10\", \"11\", \"12\", \"13\", \"14\", \"15\", \"16\", \"17\", \"18\", \"19\", \"20\", \"21\", \"22\", \"23\", \"24\", \"25\", \"26\", \"27\", \"28\", \"29\", \"30\", \"31\", \"32\", \"33\", \"34\", \"35\", \"36\", \"37\", \"38\", \"39\", \"40\", \"41\", \"42\", \"43\", \"44\", \"45\", \"46\", \"48\", \"49\"], \"mode\": \"markers\", \"name\": \"AUC_weighted\", \"stepped\": false, \"type\": \"scatter\", \"data\": [0.8550287233045855, 0.875938401455643, 0.893161289368186, 0.8704591290798188, 0.8932538449779829, 0.8891157413571208, 0.8919162227610502, 0.8606604141086899, 0.8551509144612592, 0.7428794804656874, 0.8508211166831856, 0.8656007238765859, 0.9017014058393369, 0.8533282050523431, 0.8565700182941561, 0.5137235264821473, 0.897298973850698, 0.8190396307637687, 0.8794844598292874, 0.9019362219362219, 0.8711652920273609, 0.8129535446776827, 0.8554389857838135, 0.8740385212799007, 0.8791597508838889, 0.49047619047619045, 0.8854001785036267, 0.8985611226990539, 0.8750385114178217, 0.8917495327840155, 0.8832168375271824, 0.8513051968224382, 0.908038038038038, 0.8791559046731461, 0.8991960926443685, 0.9014453862729725, 0.8969790973239249, 0.905234791441688, 0.9071197305680064, 0.8833842216600837, 0.8867392515668376, 0.9016673816673818, 0.9017802038491695, 0.9016536733778113, 0.8985877503118882, 0.5066500490638421, 0.8751263578849787, 0.9154087585122067, 0.9126809075084936]}, {\"categories\": [\"0\", \"1\", \"2\", \"3\", \"4\", \"5\", \"6\", \"7\", \"8\", \"9\", \"10\", \"11\", \"12\", \"13\", \"14\", \"15\", \"16\", \"17\", \"18\", \"19\", \"20\", \"21\", \"22\", \"23\", \"24\", \"25\", \"26\", \"27\", \"28\", \"29\", \"30\", \"31\", \"32\", \"33\", \"34\", \"35\", \"36\", \"37\", \"38\", \"39\", \"40\", \"41\", \"42\", \"43\", \"44\", \"45\", \"46\", \"48\", \"49\"], \"mode\": \"lines\", \"name\": \"AUC_weighted_max\", \"stepped\": true, \"type\": \"scatter\", \"data\": [0.8550287233045855, 0.875938401455643, 0.893161289368186, 0.893161289368186, 0.8932538449779829, 0.8932538449779829, 0.8932538449779829, 0.8932538449779829, 0.8932538449779829, 0.8932538449779829, 0.8932538449779829, 0.8932538449779829, 0.9017014058393369, 0.9017014058393369, 0.9017014058393369, 0.9017014058393369, 0.9017014058393369, 0.9017014058393369, 0.9017014058393369, 0.9019362219362219, 0.9019362219362219, 0.9019362219362219, 0.9019362219362219, 0.9019362219362219, 0.9019362219362219, 0.9019362219362219, 0.9019362219362219, 0.9019362219362219, 0.9019362219362219, 0.9019362219362219, 0.9019362219362219, 0.9019362219362219, 0.908038038038038, 0.908038038038038, 0.908038038038038, 0.908038038038038, 0.908038038038038, 0.908038038038038, 0.908038038038038, 0.908038038038038, 0.908038038038038, 0.908038038038038, 0.908038038038038, 0.908038038038038, 0.908038038038038, 0.908038038038038, 0.908038038038038, 0.9154087585122067, 0.9154087585122067]}], \"f1_score_macro\": [{\"categories\": [\"0\", \"1\", \"2\", \"3\", \"4\", \"5\", \"6\", \"7\", \"8\", \"9\", \"10\", \"11\", \"12\", \"13\", \"14\", \"15\", \"16\", \"17\", \"18\", \"19\", \"20\", \"21\", \"22\", \"23\", \"24\", \"25\", \"26\", \"27\", \"28\", \"29\", \"30\", \"31\", \"32\", \"33\", \"34\", \"35\", \"36\", \"37\", \"38\", \"39\", \"40\", \"41\", \"42\", \"43\", \"44\", \"45\", \"46\", \"48\", \"49\"], \"mode\": \"markers\", \"name\": \"f1_score_macro\", \"stepped\": false, \"type\": \"scatter\", \"data\": [0.7670520318568558, 0.7892216866138503, 0.800728802103475, 0.7413629727124915, 0.8172907710429124, 0.7934800642623013, 0.7929641315386929, 0.7737114748981656, 0.6983789404690651, 0.676878158285481, 0.7187596367823424, 0.7790000083359295, 0.7830229746657716, 0.7697679859146604, 0.7789661319073083, 0.4955971612988537, 0.7262947058017838, 0.7444733940811945, 0.7852074056118173, 0.7896866833804413, 0.7798032715068445, 0.7514068355290715, 0.7675726134111324, 0.7878572837302679, 0.7979141932988744, 0.40415631893298937, 0.796942048095834, 0.806335639668973, 0.7342351654156847, 0.7917934808840371, 0.8121484226289338, 0.7522898845681117, 0.801459081456754, 0.7983820126922784, 0.812546089036761, 0.8160678976535293, 0.7950776287595617, 0.8052443698277032, 0.8258870996844944, 0.789684433324107, 0.7954500151251134, 0.800220037472279, 0.7979797979797979, 0.806554278554595, 0.8123443550588556, 0.4507305194805194, 0.8005873381415086, 0.8113869524647143, 0.6505137799921924]}, {\"categories\": [\"0\", \"1\", \"2\", \"3\", \"4\", \"5\", \"6\", \"7\", \"8\", \"9\", \"10\", \"11\", \"12\", \"13\", \"14\", \"15\", \"16\", \"17\", \"18\", \"19\", \"20\", \"21\", \"22\", \"23\", \"24\", \"25\", \"26\", \"27\", \"28\", \"29\", \"30\", \"31\", \"32\", \"33\", \"34\", \"35\", \"36\", \"37\", \"38\", \"39\", \"40\", \"41\", \"42\", \"43\", \"44\", \"45\", \"46\", \"48\", \"49\"], \"mode\": \"lines\", \"name\": \"f1_score_macro_max\", \"stepped\": true, \"type\": \"scatter\", \"data\": [0.7670520318568558, 0.7892216866138503, 0.800728802103475, 0.800728802103475, 0.8172907710429124, 0.8172907710429124, 0.8172907710429124, 0.8172907710429124, 0.8172907710429124, 0.8172907710429124, 0.8172907710429124, 0.8172907710429124, 0.8172907710429124, 0.8172907710429124, 0.8172907710429124, 0.8172907710429124, 0.8172907710429124, 0.8172907710429124, 0.8172907710429124, 0.8172907710429124, 0.8172907710429124, 0.8172907710429124, 0.8172907710429124, 0.8172907710429124, 0.8172907710429124, 0.8172907710429124, 0.8172907710429124, 0.8172907710429124, 0.8172907710429124, 0.8172907710429124, 0.8172907710429124, 0.8172907710429124, 0.8172907710429124, 0.8172907710429124, 0.8172907710429124, 0.8172907710429124, 0.8172907710429124, 0.8172907710429124, 0.8258870996844944, 0.8258870996844944, 0.8258870996844944, 0.8258870996844944, 0.8258870996844944, 0.8258870996844944, 0.8258870996844944, 0.8258870996844944, 0.8258870996844944, 0.8258870996844944, 0.8258870996844944]}], \"precision_score_weighted\": [{\"categories\": [\"0\", \"1\", \"2\", \"3\", \"4\", \"5\", \"6\", \"7\", \"8\", \"9\", \"10\", \"11\", \"12\", \"13\", \"14\", \"15\", \"16\", \"17\", \"18\", \"19\", \"20\", \"21\", \"22\", \"23\", \"24\", \"25\", \"26\", \"27\", \"28\", \"29\", \"30\", \"31\", \"32\", \"33\", \"34\", \"35\", \"36\", \"37\", \"38\", \"39\", \"40\", \"41\", \"42\", \"43\", \"44\", \"45\", \"46\", \"48\", \"49\"], \"mode\": \"markers\", \"name\": \"precision_score_weighted\", \"stepped\": false, \"type\": \"scatter\", \"data\": [0.8103076903348296, 0.8235687391092353, 0.8343829790799487, 0.8178160643579103, 0.8491847601363238, 0.8350235353813273, 0.8252813891734121, 0.8257838059260824, 0.8113428100565708, 0.75574285703571, 0.8043203729269468, 0.8306413828941163, 0.8379790764790765, 0.8090387021931614, 0.8162947558398678, 0.5844329650562528, 0.8109199500183983, 0.7866951084289795, 0.8330087251760822, 0.8301811844279031, 0.8249207002148179, 0.7864439603001694, 0.8089885877218251, 0.8244404403874102, 0.8314988874613546, 0.46228299493248987, 0.8369105535414386, 0.8466495165041676, 0.8052058882624781, 0.8331230172409029, 0.8492274303575673, 0.7962196817610975, 0.8420579182429141, 0.8343816279353593, 0.8475967403503635, 0.8520038757723315, 0.834247563367676, 0.8435884621639458, 0.8627619519724782, 0.8314430628713579, 0.8382737332506095, 0.8389717496433916, 0.8382470549090465, 0.8407089573321628, 0.8521754047370488, 0.648260879210418, 0.8371403077924818, 0.8478759179584472, 0.7091466866466867]}, {\"categories\": [\"0\", \"1\", \"2\", \"3\", \"4\", \"5\", \"6\", \"7\", \"8\", \"9\", \"10\", \"11\", \"12\", \"13\", \"14\", \"15\", \"16\", \"17\", \"18\", \"19\", \"20\", \"21\", \"22\", \"23\", \"24\", \"25\", \"26\", \"27\", \"28\", \"29\", \"30\", \"31\", \"32\", \"33\", \"34\", \"35\", \"36\", \"37\", \"38\", \"39\", \"40\", \"41\", \"42\", \"43\", \"44\", \"45\", \"46\", \"48\", \"49\"], \"mode\": \"lines\", \"name\": \"precision_score_weighted_max\", \"stepped\": true, \"type\": \"scatter\", \"data\": [0.8103076903348296, 0.8235687391092353, 0.8343829790799487, 0.8343829790799487, 0.8491847601363238, 0.8491847601363238, 0.8491847601363238, 0.8491847601363238, 0.8491847601363238, 0.8491847601363238, 0.8491847601363238, 0.8491847601363238, 0.8491847601363238, 0.8491847601363238, 0.8491847601363238, 0.8491847601363238, 0.8491847601363238, 0.8491847601363238, 0.8491847601363238, 0.8491847601363238, 0.8491847601363238, 0.8491847601363238, 0.8491847601363238, 0.8491847601363238, 0.8491847601363238, 0.8491847601363238, 0.8491847601363238, 0.8491847601363238, 0.8491847601363238, 0.8491847601363238, 0.8492274303575673, 0.8492274303575673, 0.8492274303575673, 0.8492274303575673, 0.8492274303575673, 0.8520038757723315, 0.8520038757723315, 0.8520038757723315, 0.8627619519724782, 0.8627619519724782, 0.8627619519724782, 0.8627619519724782, 0.8627619519724782, 0.8627619519724782, 0.8627619519724782, 0.8627619519724782, 0.8627619519724782, 0.8627619519724782, 0.8627619519724782]}], \"recall_score_micro\": [{\"categories\": [\"0\", \"1\", \"2\", \"3\", \"4\", \"5\", \"6\", \"7\", \"8\", \"9\", \"10\", \"11\", \"12\", \"13\", \"14\", \"15\", \"16\", \"17\", \"18\", \"19\", \"20\", \"21\", \"22\", \"23\", \"24\", \"25\", \"26\", \"27\", \"28\", \"29\", \"30\", \"31\", \"32\", \"33\", \"34\", \"35\", \"36\", \"37\", \"38\", \"39\", \"40\", \"41\", \"42\", \"43\", \"44\", \"45\", \"46\", \"48\", \"49\"], \"mode\": \"markers\", \"name\": \"recall_score_micro\", \"stepped\": false, \"type\": \"scatter\", \"data\": [0.8025252525252524, 0.8192929292929293, 0.8293265993265994, 0.8026936026936027, 0.8460942760942761, 0.8259595959595959, 0.8225589225589225, 0.8193602693602693, 0.7825589225589226, 0.7591919191919191, 0.7892592592592592, 0.8226599326599326, 0.7990909090909092, 0.8058585858585859, 0.8057912457912458, 0.6253535353535353, 0.7925589225589226, 0.7757912457912458, 0.8057912457912457, 0.8226262626262626, 0.8158585858585857, 0.779090909090909, 0.8092255892255893, 0.8159932659932659, 0.826026936026936, 0.6790235690235691, 0.8293602693602694, 0.8258585858585858, 0.7992592592592592, 0.8225589225589225, 0.8460942760942761, 0.7925252525252526, 0.8326936026936026, 0.8292929292929293, 0.8427609427609428, 0.8460606060606062, 0.8259595959595959, 0.8258585858585858, 0.8426262626262626, 0.8125589225589226, 0.8292929292929293, 0.8327272727272729, 0.8258585858585858, 0.8360942760942761, 0.8460942760942761, 0.6823569023569024, 0.8292929292929293, 0.8427609427609428, 0.7693939393939394]}, {\"categories\": [\"0\", \"1\", \"2\", \"3\", \"4\", \"5\", \"6\", \"7\", \"8\", \"9\", \"10\", \"11\", \"12\", \"13\", \"14\", \"15\", \"16\", \"17\", \"18\", \"19\", \"20\", \"21\", \"22\", \"23\", \"24\", \"25\", \"26\", \"27\", \"28\", \"29\", \"30\", \"31\", \"32\", \"33\", \"34\", \"35\", \"36\", \"37\", \"38\", \"39\", \"40\", \"41\", \"42\", \"43\", \"44\", \"45\", \"46\", \"48\", \"49\"], \"mode\": \"lines\", \"name\": \"recall_score_micro_max\", \"stepped\": true, \"type\": \"scatter\", \"data\": [0.8025252525252524, 0.8192929292929293, 0.8293265993265994, 0.8293265993265994, 0.8460942760942761, 0.8460942760942761, 0.8460942760942761, 0.8460942760942761, 0.8460942760942761, 0.8460942760942761, 0.8460942760942761, 0.8460942760942761, 0.8460942760942761, 0.8460942760942761, 0.8460942760942761, 0.8460942760942761, 0.8460942760942761, 0.8460942760942761, 0.8460942760942761, 0.8460942760942761, 0.8460942760942761, 0.8460942760942761, 0.8460942760942761, 0.8460942760942761, 0.8460942760942761, 0.8460942760942761, 0.8460942760942761, 0.8460942760942761, 0.8460942760942761, 0.8460942760942761, 0.8460942760942761, 0.8460942760942761, 0.8460942760942761, 0.8460942760942761, 0.8460942760942761, 0.8460942760942761, 0.8460942760942761, 0.8460942760942761, 0.8460942760942761, 0.8460942760942761, 0.8460942760942761, 0.8460942760942761, 0.8460942760942761, 0.8460942760942761, 0.8460942760942761, 0.8460942760942761, 0.8460942760942761, 0.8460942760942761, 0.8460942760942761]}], \"recall_score_macro\": [{\"categories\": [\"0\", \"1\", \"2\", \"3\", \"4\", \"5\", \"6\", \"7\", \"8\", \"9\", \"10\", \"11\", \"12\", \"13\", \"14\", \"15\", \"16\", \"17\", \"18\", \"19\", \"20\", \"21\", \"22\", \"23\", \"24\", \"25\", \"26\", \"27\", \"28\", \"29\", \"30\", \"31\", \"32\", \"33\", \"34\", \"35\", \"36\", \"37\", \"38\", \"39\", \"40\", \"41\", \"42\", \"43\", \"44\", \"45\", \"46\", \"48\", \"49\"], \"mode\": \"markers\", \"name\": \"recall_score_macro\", \"stepped\": false, \"type\": \"scatter\", \"data\": [0.7665542389680322, 0.7899604037535072, 0.7996829341656927, 0.7255790273031651, 0.8136897981725567, 0.7883802521733556, 0.7903336834371317, 0.7636885654127035, 0.6959267148922321, 0.6638475914337983, 0.704884194539367, 0.7652100376238306, 0.8107151486461831, 0.76444498685878, 0.7865212503143537, 0.5147886803059217, 0.7128278524830249, 0.7550183188114223, 0.8045705804326495, 0.7886233524164559, 0.775364527088665, 0.7575080006114489, 0.7609530712978989, 0.7941202286029873, 0.8012630857458444, 0.5, 0.794530737634186, 0.8211714177231418, 0.7166989649748271, 0.7929434360468844, 0.8019238450272933, 0.747499469913263, 0.8013289151220185, 0.7934067071998108, 0.8083987928815515, 0.8118307963135548, 0.7933194278021864, 0.8178052436673126, 0.8438640611054403, 0.8029832788453479, 0.7914291138429069, 0.7989408127339162, 0.7996686341513928, 0.8065469410296996, 0.8053629984664467, 0.516270457649768, 0.8009013940048423, 0.8062752407579993, 0.6812615571236261]}, {\"categories\": [\"0\", \"1\", \"2\", \"3\", \"4\", \"5\", \"6\", \"7\", \"8\", \"9\", \"10\", \"11\", \"12\", \"13\", \"14\", \"15\", \"16\", \"17\", \"18\", \"19\", \"20\", \"21\", \"22\", \"23\", \"24\", \"25\", \"26\", \"27\", \"28\", \"29\", \"30\", \"31\", \"32\", \"33\", \"34\", \"35\", \"36\", \"37\", \"38\", \"39\", \"40\", \"41\", \"42\", \"43\", \"44\", \"45\", \"46\", \"48\", \"49\"], \"mode\": \"lines\", \"name\": \"recall_score_macro_max\", \"stepped\": true, \"type\": \"scatter\", \"data\": [0.7665542389680322, 0.7899604037535072, 0.7996829341656927, 0.7996829341656927, 0.8136897981725567, 0.8136897981725567, 0.8136897981725567, 0.8136897981725567, 0.8136897981725567, 0.8136897981725567, 0.8136897981725567, 0.8136897981725567, 0.8136897981725567, 0.8136897981725567, 0.8136897981725567, 0.8136897981725567, 0.8136897981725567, 0.8136897981725567, 0.8136897981725567, 0.8136897981725567, 0.8136897981725567, 0.8136897981725567, 0.8136897981725567, 0.8136897981725567, 0.8136897981725567, 0.8136897981725567, 0.8136897981725567, 0.8211714177231418, 0.8211714177231418, 0.8211714177231418, 0.8211714177231418, 0.8211714177231418, 0.8211714177231418, 0.8211714177231418, 0.8211714177231418, 0.8211714177231418, 0.8211714177231418, 0.8211714177231418, 0.8438640611054403, 0.8438640611054403, 0.8438640611054403, 0.8438640611054403, 0.8438640611054403, 0.8438640611054403, 0.8438640611054403, 0.8438640611054403, 0.8438640611054403, 0.8438640611054403, 0.8438640611054403]}], \"matthews_correlation\": [{\"categories\": [\"0\", \"1\", \"2\", \"3\", \"4\", \"5\", \"6\", \"7\", \"8\", \"9\", \"10\", \"11\", \"12\", \"13\", \"14\", \"15\", \"16\", \"17\", \"18\", \"19\", \"20\", \"21\", \"22\", \"23\", \"24\", \"25\", \"26\", \"27\", \"28\", \"29\", \"30\", \"31\", \"32\", \"33\", \"34\", \"35\", \"36\", \"37\", \"38\", \"39\", \"40\", \"41\", \"42\", \"43\", \"44\", \"45\", \"46\", \"48\", \"49\"], \"mode\": \"markers\", \"name\": \"matthews_correlation\", \"stepped\": false, \"type\": \"scatter\", \"data\": [0.5489062305154261, 0.5873460381369527, 0.6108232927927641, 0.5361888721671682, 0.6461988560351887, 0.6026043226822759, 0.5899549419984441, 0.576483111372264, 0.4862176597933849, 0.4034623606090581, 0.4991625381592886, 0.5868038726498205, 0.6001369240673883, 0.5499546727590493, 0.5692885519701499, 0.03716669998383033, 0.5115352874240928, 0.5023434346867061, 0.5951754901963863, 0.5960111019371286, 0.5771372387773338, 0.5064388612821539, 0.5485443728627531, 0.587329148494348, 0.6056397805701236, 0.0, 0.6095451811185865, 0.6315822096545144, 0.5145069345746603, 0.5997911686333546, 0.6413099531630179, 0.5185053697407992, 0.6207765462747842, 0.6079023179841775, 0.6390660153135251, 0.6484655425887396, 0.6057766375717973, 0.6264322652372115, 0.6691645772967799, 0.5969139300297421, 0.6088732758324821, 0.6170860661186685, 0.6137375054796365, 0.6254156471983979, 0.6443910264126395, 0.0879242162906048, 0.6118688038272293, 0.6388882661896386, 0.37827237415360343]}, {\"categories\": [\"0\", \"1\", \"2\", \"3\", \"4\", \"5\", \"6\", \"7\", \"8\", \"9\", \"10\", \"11\", \"12\", \"13\", \"14\", \"15\", \"16\", \"17\", \"18\", \"19\", \"20\", \"21\", \"22\", \"23\", \"24\", \"25\", \"26\", \"27\", \"28\", \"29\", \"30\", \"31\", \"32\", \"33\", \"34\", \"35\", \"36\", \"37\", \"38\", \"39\", \"40\", \"41\", \"42\", \"43\", \"44\", \"45\", \"46\", \"48\", \"49\"], \"mode\": \"lines\", \"name\": \"matthews_correlation_max\", \"stepped\": true, \"type\": \"scatter\", \"data\": [0.5489062305154261, 0.5873460381369527, 0.6108232927927641, 0.6108232927927641, 0.6461988560351887, 0.6461988560351887, 0.6461988560351887, 0.6461988560351887, 0.6461988560351887, 0.6461988560351887, 0.6461988560351887, 0.6461988560351887, 0.6461988560351887, 0.6461988560351887, 0.6461988560351887, 0.6461988560351887, 0.6461988560351887, 0.6461988560351887, 0.6461988560351887, 0.6461988560351887, 0.6461988560351887, 0.6461988560351887, 0.6461988560351887, 0.6461988560351887, 0.6461988560351887, 0.6461988560351887, 0.6461988560351887, 0.6461988560351887, 0.6461988560351887, 0.6461988560351887, 0.6461988560351887, 0.6461988560351887, 0.6461988560351887, 0.6461988560351887, 0.6461988560351887, 0.6484655425887396, 0.6484655425887396, 0.6484655425887396, 0.6691645772967799, 0.6691645772967799, 0.6691645772967799, 0.6691645772967799, 0.6691645772967799, 0.6691645772967799, 0.6691645772967799, 0.6691645772967799, 0.6691645772967799, 0.6691645772967799, 0.6691645772967799]}], \"average_precision_score_macro\": [{\"categories\": [\"0\", \"1\", \"2\", \"3\", \"4\", \"5\", \"6\", \"7\", \"8\", \"9\", \"10\", \"11\", \"12\", \"13\", \"14\", \"15\", \"16\", \"17\", \"18\", \"19\", \"20\", \"21\", \"22\", \"23\", \"24\", \"25\", \"26\", \"27\", \"28\", \"29\", \"30\", \"31\", \"32\", \"33\", \"34\", \"35\", \"36\", \"37\", \"38\", \"39\", \"40\", \"41\", \"42\", \"43\", \"44\", \"45\", \"46\", \"48\", \"49\"], \"mode\": \"markers\", \"name\": \"average_precision_score_macro\", \"stepped\": false, \"type\": \"scatter\", \"data\": [0.8323265818260129, 0.8521645844042397, 0.8744005625063238, 0.8601036628333151, 0.8808658129033639, 0.8818731758205046, 0.8633461496953228, 0.8487425519268496, 0.8481133566837852, 0.74325286553385, 0.8315414640075808, 0.8498013242386541, 0.8852910031007792, 0.840388117011584, 0.8453110935366168, 0.5487935173283434, 0.8728868555593472, 0.8052673762034429, 0.854441451787463, 0.8757403631810639, 0.8522961305380644, 0.7973384004167681, 0.8348136603447456, 0.8598010967881365, 0.8643020154061744, 0.4962226823096388, 0.8632702986201827, 0.8777962254285209, 0.8543844384622261, 0.866914090706464, 0.8697293457446026, 0.8342639940480404, 0.8889281501458856, 0.8570195072175487, 0.8774938060799574, 0.8875705229871471, 0.87603829996086, 0.8860723454216215, 0.8889282112070451, 0.8596836492897406, 0.8622612066868355, 0.8900340889417656, 0.8868133174013518, 0.8860934883118669, 0.8851290657029454, 0.512463723657209, 0.8478815768317425, 0.900864714392057, 0.8979440144927809]}, {\"categories\": [\"0\", \"1\", \"2\", \"3\", \"4\", \"5\", \"6\", \"7\", \"8\", \"9\", \"10\", \"11\", \"12\", \"13\", \"14\", \"15\", \"16\", \"17\", \"18\", \"19\", \"20\", \"21\", \"22\", \"23\", \"24\", \"25\", \"26\", \"27\", \"28\", \"29\", \"30\", \"31\", \"32\", \"33\", \"34\", \"35\", \"36\", \"37\", \"38\", \"39\", \"40\", \"41\", \"42\", \"43\", \"44\", \"45\", \"46\", \"48\", \"49\"], \"mode\": \"lines\", \"name\": \"average_precision_score_macro_max\", \"stepped\": true, \"type\": \"scatter\", \"data\": [0.8323265818260129, 0.8521645844042397, 0.8744005625063238, 0.8744005625063238, 0.8808658129033639, 0.8818731758205046, 0.8818731758205046, 0.8818731758205046, 0.8818731758205046, 0.8818731758205046, 0.8818731758205046, 0.8818731758205046, 0.8852910031007792, 0.8852910031007792, 0.8852910031007792, 0.8852910031007792, 0.8852910031007792, 0.8852910031007792, 0.8852910031007792, 0.8852910031007792, 0.8852910031007792, 0.8852910031007792, 0.8852910031007792, 0.8852910031007792, 0.8852910031007792, 0.8852910031007792, 0.8852910031007792, 0.8852910031007792, 0.8852910031007792, 0.8852910031007792, 0.8852910031007792, 0.8852910031007792, 0.8889281501458856, 0.8889281501458856, 0.8889281501458856, 0.8889281501458856, 0.8889281501458856, 0.8889281501458856, 0.8889282112070451, 0.8889282112070451, 0.8889282112070451, 0.8900340889417656, 0.8900340889417656, 0.8900340889417656, 0.8900340889417656, 0.8900340889417656, 0.8900340889417656, 0.900864714392057, 0.900864714392057]}], \"weighted_accuracy\": [{\"categories\": [\"0\", \"1\", \"2\", \"3\", \"4\", \"5\", \"6\", \"7\", \"8\", \"9\", \"10\", \"11\", \"12\", \"13\", \"14\", \"15\", \"16\", \"17\", \"18\", \"19\", \"20\", \"21\", \"22\", \"23\", \"24\", \"25\", \"26\", \"27\", \"28\", \"29\", \"30\", \"31\", \"32\", \"33\", \"34\", \"35\", \"36\", \"37\", \"38\", \"39\", \"40\", \"41\", \"42\", \"43\", \"44\", \"45\", \"46\", \"48\", \"49\"], \"mode\": \"markers\", \"name\": \"weighted_accuracy\", \"stepped\": false, \"type\": \"scatter\", \"data\": [0.8310099034285422, 0.8426543037328149, 0.8528814852638908, 0.8620851654765443, 0.8719477792101203, 0.8555285990692231, 0.847220211792605, 0.8627720644399511, 0.8500072468784134, 0.8311150954058277, 0.8541369619684872, 0.8672583621949167, 0.7925373404962391, 0.8380070137156617, 0.8218468590027274, 0.710022993615728, 0.8540183148462188, 0.7932542051610456, 0.8088035135075571, 0.8499244509746678, 0.8475920233179135, 0.7959183299438416, 0.8463277682784671, 0.8339932710719985, 0.8461035806620213, 0.8139581109686231, 0.856919702630055, 0.8312299354348904, 0.861907042326378, 0.8464094987527218, 0.8806312844591623, 0.8276389306159603, 0.8579758130822382, 0.857430598612726, 0.8701347104728517, 0.8735300145053916, 0.8521532422277023, 0.8336104730880285, 0.8433645016055454, 0.8215712238868216, 0.8591286213313959, 0.8598185981355413, 0.8474315088599322, 0.8598788136928789, 0.8782435030782154, 0.8075850840510409, 0.8516994839616303, 0.8718472206471386, 0.83601031850946]}, {\"categories\": [\"0\", \"1\", \"2\", \"3\", \"4\", \"5\", \"6\", \"7\", \"8\", \"9\", \"10\", \"11\", \"12\", \"13\", \"14\", \"15\", \"16\", \"17\", \"18\", \"19\", \"20\", \"21\", \"22\", \"23\", \"24\", \"25\", \"26\", \"27\", \"28\", \"29\", \"30\", \"31\", \"32\", \"33\", \"34\", \"35\", \"36\", \"37\", \"38\", \"39\", \"40\", \"41\", \"42\", \"43\", \"44\", \"45\", \"46\", \"48\", \"49\"], \"mode\": \"lines\", \"name\": \"weighted_accuracy_max\", \"stepped\": true, \"type\": \"scatter\", \"data\": [0.8310099034285422, 0.8426543037328149, 0.8528814852638908, 0.8620851654765443, 0.8719477792101203, 0.8719477792101203, 0.8719477792101203, 0.8719477792101203, 0.8719477792101203, 0.8719477792101203, 0.8719477792101203, 0.8719477792101203, 0.8719477792101203, 0.8719477792101203, 0.8719477792101203, 0.8719477792101203, 0.8719477792101203, 0.8719477792101203, 0.8719477792101203, 0.8719477792101203, 0.8719477792101203, 0.8719477792101203, 0.8719477792101203, 0.8719477792101203, 0.8719477792101203, 0.8719477792101203, 0.8719477792101203, 0.8719477792101203, 0.8719477792101203, 0.8719477792101203, 0.8806312844591623, 0.8806312844591623, 0.8806312844591623, 0.8806312844591623, 0.8806312844591623, 0.8806312844591623, 0.8806312844591623, 0.8806312844591623, 0.8806312844591623, 0.8806312844591623, 0.8806312844591623, 0.8806312844591623, 0.8806312844591623, 0.8806312844591623, 0.8806312844591623, 0.8806312844591623, 0.8806312844591623, 0.8806312844591623, 0.8806312844591623]}], \"precision_score_micro\": [{\"categories\": [\"0\", \"1\", \"2\", \"3\", \"4\", \"5\", \"6\", \"7\", \"8\", \"9\", \"10\", \"11\", \"12\", \"13\", \"14\", \"15\", \"16\", \"17\", \"18\", \"19\", \"20\", \"21\", \"22\", \"23\", \"24\", \"25\", \"26\", \"27\", \"28\", \"29\", \"30\", \"31\", \"32\", \"33\", \"34\", \"35\", \"36\", \"37\", \"38\", \"39\", \"40\", \"41\", \"42\", \"43\", \"44\", \"45\", \"46\", \"48\", \"49\"], \"mode\": \"markers\", \"name\": \"precision_score_micro\", \"stepped\": false, \"type\": \"scatter\", \"data\": [0.8025252525252524, 0.8192929292929293, 0.8293265993265994, 0.8026936026936027, 0.8460942760942761, 0.8259595959595959, 0.8225589225589225, 0.8193602693602693, 0.7825589225589226, 0.7591919191919191, 0.7892592592592592, 0.8226599326599326, 0.7990909090909092, 0.8058585858585859, 0.8057912457912458, 0.6253535353535353, 0.7925589225589226, 0.7757912457912458, 0.8057912457912457, 0.8226262626262626, 0.8158585858585857, 0.779090909090909, 0.8092255892255893, 0.8159932659932659, 0.826026936026936, 0.6790235690235691, 0.8293602693602694, 0.8258585858585858, 0.7992592592592592, 0.8225589225589225, 0.8460942760942761, 0.7925252525252526, 0.8326936026936026, 0.8292929292929293, 0.8427609427609428, 0.8460606060606062, 0.8259595959595959, 0.8258585858585858, 0.8426262626262626, 0.8125589225589226, 0.8292929292929293, 0.8327272727272729, 0.8258585858585858, 0.8360942760942761, 0.8460942760942761, 0.6823569023569024, 0.8292929292929293, 0.8427609427609428, 0.7693939393939394]}, {\"categories\": [\"0\", \"1\", \"2\", \"3\", \"4\", \"5\", \"6\", \"7\", \"8\", \"9\", \"10\", \"11\", \"12\", \"13\", \"14\", \"15\", \"16\", \"17\", \"18\", \"19\", \"20\", \"21\", \"22\", \"23\", \"24\", \"25\", \"26\", \"27\", \"28\", \"29\", \"30\", \"31\", \"32\", \"33\", \"34\", \"35\", \"36\", \"37\", \"38\", \"39\", \"40\", \"41\", \"42\", \"43\", \"44\", \"45\", \"46\", \"48\", \"49\"], \"mode\": \"lines\", \"name\": \"precision_score_micro_max\", \"stepped\": true, \"type\": \"scatter\", \"data\": [0.8025252525252524, 0.8192929292929293, 0.8293265993265994, 0.8293265993265994, 0.8460942760942761, 0.8460942760942761, 0.8460942760942761, 0.8460942760942761, 0.8460942760942761, 0.8460942760942761, 0.8460942760942761, 0.8460942760942761, 0.8460942760942761, 0.8460942760942761, 0.8460942760942761, 0.8460942760942761, 0.8460942760942761, 0.8460942760942761, 0.8460942760942761, 0.8460942760942761, 0.8460942760942761, 0.8460942760942761, 0.8460942760942761, 0.8460942760942761, 0.8460942760942761, 0.8460942760942761, 0.8460942760942761, 0.8460942760942761, 0.8460942760942761, 0.8460942760942761, 0.8460942760942761, 0.8460942760942761, 0.8460942760942761, 0.8460942760942761, 0.8460942760942761, 0.8460942760942761, 0.8460942760942761, 0.8460942760942761, 0.8460942760942761, 0.8460942760942761, 0.8460942760942761, 0.8460942760942761, 0.8460942760942761, 0.8460942760942761, 0.8460942760942761, 0.8460942760942761, 0.8460942760942761, 0.8460942760942761, 0.8460942760942761]}], \"balanced_accuracy\": [{\"categories\": [\"0\", \"1\", \"2\", \"3\", \"4\", \"5\", \"6\", \"7\", \"8\", \"9\", \"10\", \"11\", \"12\", \"13\", \"14\", \"15\", \"16\", \"17\", \"18\", \"19\", \"20\", \"21\", \"22\", \"23\", \"24\", \"25\", \"26\", \"27\", \"28\", \"29\", \"30\", \"31\", \"32\", \"33\", \"34\", \"35\", \"36\", \"37\", \"38\", \"39\", \"40\", \"41\", \"42\", \"43\", \"44\", \"45\", \"46\", \"48\", \"49\"], \"mode\": \"markers\", \"name\": \"balanced_accuracy\", \"stepped\": false, \"type\": \"scatter\", \"data\": [0.7665542389680322, 0.7899604037535072, 0.7996829341656927, 0.7255790273031651, 0.8136897981725567, 0.7883802521733556, 0.7903336834371317, 0.7636885654127035, 0.6959267148922321, 0.6638475914337983, 0.704884194539367, 0.7652100376238306, 0.8107151486461831, 0.76444498685878, 0.7865212503143537, 0.5147886803059217, 0.7128278524830249, 0.7550183188114223, 0.8045705804326495, 0.7886233524164559, 0.775364527088665, 0.7575080006114489, 0.7609530712978989, 0.7941202286029873, 0.8012630857458444, 0.5, 0.794530737634186, 0.8211714177231418, 0.7166989649748271, 0.7929434360468844, 0.8019238450272933, 0.747499469913263, 0.8013289151220185, 0.7934067071998108, 0.8083987928815515, 0.8118307963135548, 0.7933194278021864, 0.8178052436673126, 0.8438640611054403, 0.8029832788453479, 0.7914291138429069, 0.7989408127339162, 0.7996686341513928, 0.8065469410296996, 0.8053629984664467, 0.516270457649768, 0.8009013940048423, 0.8062752407579993, 0.6812615571236261]}, {\"categories\": [\"0\", \"1\", \"2\", \"3\", \"4\", \"5\", \"6\", \"7\", \"8\", \"9\", \"10\", \"11\", \"12\", \"13\", \"14\", \"15\", \"16\", \"17\", \"18\", \"19\", \"20\", \"21\", \"22\", \"23\", \"24\", \"25\", \"26\", \"27\", \"28\", \"29\", \"30\", \"31\", \"32\", \"33\", \"34\", \"35\", \"36\", \"37\", \"38\", \"39\", \"40\", \"41\", \"42\", \"43\", \"44\", \"45\", \"46\", \"48\", \"49\"], \"mode\": \"lines\", \"name\": \"balanced_accuracy_max\", \"stepped\": true, \"type\": \"scatter\", \"data\": [0.7665542389680322, 0.7899604037535072, 0.7996829341656927, 0.7996829341656927, 0.8136897981725567, 0.8136897981725567, 0.8136897981725567, 0.8136897981725567, 0.8136897981725567, 0.8136897981725567, 0.8136897981725567, 0.8136897981725567, 0.8136897981725567, 0.8136897981725567, 0.8136897981725567, 0.8136897981725567, 0.8136897981725567, 0.8136897981725567, 0.8136897981725567, 0.8136897981725567, 0.8136897981725567, 0.8136897981725567, 0.8136897981725567, 0.8136897981725567, 0.8136897981725567, 0.8136897981725567, 0.8136897981725567, 0.8211714177231418, 0.8211714177231418, 0.8211714177231418, 0.8211714177231418, 0.8211714177231418, 0.8211714177231418, 0.8211714177231418, 0.8211714177231418, 0.8211714177231418, 0.8211714177231418, 0.8211714177231418, 0.8438640611054403, 0.8438640611054403, 0.8438640611054403, 0.8438640611054403, 0.8438640611054403, 0.8438640611054403, 0.8438640611054403, 0.8438640611054403, 0.8438640611054403, 0.8438640611054403, 0.8438640611054403]}], \"AUC_macro\": [{\"categories\": [\"0\", \"1\", \"2\", \"3\", \"4\", \"5\", \"6\", \"7\", \"8\", \"9\", \"10\", \"11\", \"12\", \"13\", \"14\", \"15\", \"16\", \"17\", \"18\", \"19\", \"20\", \"21\", \"22\", \"23\", \"24\", \"25\", \"26\", \"27\", \"28\", \"29\", \"30\", \"31\", \"32\", \"33\", \"34\", \"35\", \"36\", \"37\", \"38\", \"39\", \"40\", \"41\", \"42\", \"43\", \"44\", \"45\", \"46\", \"48\", \"49\"], \"mode\": \"markers\", \"name\": \"AUC_macro\", \"stepped\": false, \"type\": \"scatter\", \"data\": [0.8550287233045853, 0.875938401455643, 0.893161289368186, 0.8704591290798188, 0.8932538449779829, 0.8891157413571206, 0.8919019388846975, 0.8606604141086901, 0.8551509144612593, 0.7428794804656874, 0.8508211166831856, 0.8656007238765859, 0.9017014058393369, 0.853328205052343, 0.8565700182941561, 0.5137235264821473, 0.897298973850698, 0.8190396307637687, 0.8794844598292874, 0.9019362219362219, 0.8711482911482911, 0.8129535446776827, 0.8554389857838135, 0.8740385212799007, 0.8791597508838889, 0.4904761904761905, 0.8854001785036267, 0.8985611226990539, 0.8750385114178219, 0.8917495327840155, 0.8832168375271824, 0.8513051968224382, 0.9080380380380381, 0.8791559046731461, 0.8991960926443685, 0.9014453862729725, 0.8969790973239249, 0.905234791441688, 0.9071197305680064, 0.8833842216600836, 0.8867392515668376, 0.9016673816673816, 0.9017802038491695, 0.9016536733778112, 0.8985877503118882, 0.5066500490638423, 0.8751263578849787, 0.9154087585122067, 0.9126809075084937]}, {\"categories\": [\"0\", \"1\", \"2\", \"3\", \"4\", \"5\", \"6\", \"7\", \"8\", \"9\", \"10\", \"11\", \"12\", \"13\", \"14\", \"15\", \"16\", \"17\", \"18\", \"19\", \"20\", \"21\", \"22\", \"23\", \"24\", \"25\", \"26\", \"27\", \"28\", \"29\", \"30\", \"31\", \"32\", \"33\", \"34\", \"35\", \"36\", \"37\", \"38\", \"39\", \"40\", \"41\", \"42\", \"43\", \"44\", \"45\", \"46\", \"48\", \"49\"], \"mode\": \"lines\", \"name\": \"AUC_macro_max\", \"stepped\": true, \"type\": \"scatter\", \"data\": [0.8550287233045853, 0.875938401455643, 0.893161289368186, 0.893161289368186, 0.8932538449779829, 0.8932538449779829, 0.8932538449779829, 0.8932538449779829, 0.8932538449779829, 0.8932538449779829, 0.8932538449779829, 0.8932538449779829, 0.9017014058393369, 0.9017014058393369, 0.9017014058393369, 0.9017014058393369, 0.9017014058393369, 0.9017014058393369, 0.9017014058393369, 0.9019362219362219, 0.9019362219362219, 0.9019362219362219, 0.9019362219362219, 0.9019362219362219, 0.9019362219362219, 0.9019362219362219, 0.9019362219362219, 0.9019362219362219, 0.9019362219362219, 0.9019362219362219, 0.9019362219362219, 0.9019362219362219, 0.9080380380380381, 0.9080380380380381, 0.9080380380380381, 0.9080380380380381, 0.9080380380380381, 0.9080380380380381, 0.9080380380380381, 0.9080380380380381, 0.9080380380380381, 0.9080380380380381, 0.9080380380380381, 0.9080380380380381, 0.9080380380380381, 0.9080380380380381, 0.9080380380380381, 0.9154087585122067, 0.9154087585122067]}], \"AUC_micro\": [{\"categories\": [\"0\", \"1\", \"2\", \"3\", \"4\", \"5\", \"6\", \"7\", \"8\", \"9\", \"10\", \"11\", \"12\", \"13\", \"14\", \"15\", \"16\", \"17\", \"18\", \"19\", \"20\", \"21\", \"22\", \"23\", \"24\", \"25\", \"26\", \"27\", \"28\", \"29\", \"30\", \"31\", \"32\", \"33\", \"34\", \"35\", \"36\", \"37\", \"38\", \"39\", \"40\", \"41\", \"42\", \"43\", \"44\", \"45\", \"46\", \"48\", \"49\"], \"mode\": \"markers\", \"name\": \"AUC_micro\", \"stepped\": false, \"type\": \"scatter\", \"data\": [0.8769284528789579, 0.8907238819168114, 0.9007384314525728, 0.87745873550318, 0.9045015440601301, 0.900208312076999, 0.9035512090603, 0.8802660102710608, 0.8654049314695779, 0.8036289630309833, 0.8611781961024385, 0.882805941570588, 0.8871032445668808, 0.8739496037819271, 0.8698015508621569, 0.6515895690915893, 0.890449767030575, 0.8356188178077066, 0.883095799748325, 0.9044199877563514, 0.884911364486617, 0.8365529945923885, 0.8779792130054757, 0.8900824235622214, 0.8937056048702513, 0.6750235690235691, 0.8965037445158656, 0.8969631398156651, 0.8751753188450158, 0.8993924089378634, 0.8944274291738937, 0.8738652535455566, 0.9129854674693059, 0.8950028976635037, 0.9079440125157298, 0.9068111859334081, 0.9034795463047988, 0.9028785362037888, 0.9082959629969731, 0.8815399619086488, 0.8953189742543278, 0.9132240451654593, 0.9059543379927218, 0.9099044179165391, 0.9090944359419106, 0.6828264462809918, 0.8906688909294971, 0.9154401183552698, 0.885229292929293]}, {\"categories\": [\"0\", \"1\", \"2\", \"3\", \"4\", \"5\", \"6\", \"7\", \"8\", \"9\", \"10\", \"11\", \"12\", \"13\", \"14\", \"15\", \"16\", \"17\", \"18\", \"19\", \"20\", \"21\", \"22\", \"23\", \"24\", \"25\", \"26\", \"27\", \"28\", \"29\", \"30\", \"31\", \"32\", \"33\", \"34\", \"35\", \"36\", \"37\", \"38\", \"39\", \"40\", \"41\", \"42\", \"43\", \"44\", \"45\", \"46\", \"48\", \"49\"], \"mode\": \"lines\", \"name\": \"AUC_micro_max\", \"stepped\": true, \"type\": \"scatter\", \"data\": [0.8769284528789579, 0.8907238819168114, 0.9007384314525728, 0.9007384314525728, 0.9045015440601301, 0.9045015440601301, 0.9045015440601301, 0.9045015440601301, 0.9045015440601301, 0.9045015440601301, 0.9045015440601301, 0.9045015440601301, 0.9045015440601301, 0.9045015440601301, 0.9045015440601301, 0.9045015440601301, 0.9045015440601301, 0.9045015440601301, 0.9045015440601301, 0.9045015440601301, 0.9045015440601301, 0.9045015440601301, 0.9045015440601301, 0.9045015440601301, 0.9045015440601301, 0.9045015440601301, 0.9045015440601301, 0.9045015440601301, 0.9045015440601301, 0.9045015440601301, 0.9045015440601301, 0.9045015440601301, 0.9129854674693059, 0.9129854674693059, 0.9129854674693059, 0.9129854674693059, 0.9129854674693059, 0.9129854674693059, 0.9129854674693059, 0.9129854674693059, 0.9129854674693059, 0.9132240451654593, 0.9132240451654593, 0.9132240451654593, 0.9132240451654593, 0.9132240451654593, 0.9132240451654593, 0.9154401183552698, 0.9154401183552698]}], \"recall_score_weighted\": [{\"categories\": [\"0\", \"1\", \"2\", \"3\", \"4\", \"5\", \"6\", \"7\", \"8\", \"9\", \"10\", \"11\", \"12\", \"13\", \"14\", \"15\", \"16\", \"17\", \"18\", \"19\", \"20\", \"21\", \"22\", \"23\", \"24\", \"25\", \"26\", \"27\", \"28\", \"29\", \"30\", \"31\", \"32\", \"33\", \"34\", \"35\", \"36\", \"37\", \"38\", \"39\", \"40\", \"41\", \"42\", \"43\", \"44\", \"45\", \"46\", \"48\", \"49\"], \"mode\": \"markers\", \"name\": \"recall_score_weighted\", \"stepped\": false, \"type\": \"scatter\", \"data\": [0.8025252525252524, 0.8192929292929293, 0.8293265993265994, 0.8026936026936027, 0.8460942760942761, 0.8259595959595959, 0.8225589225589225, 0.8193602693602693, 0.7825589225589226, 0.7591919191919191, 0.7892592592592592, 0.8226599326599326, 0.7990909090909092, 0.8058585858585859, 0.8057912457912458, 0.6253535353535353, 0.7925589225589226, 0.7757912457912458, 0.8057912457912457, 0.8226262626262626, 0.8158585858585857, 0.779090909090909, 0.8092255892255893, 0.8159932659932659, 0.826026936026936, 0.6790235690235691, 0.8293602693602694, 0.8258585858585858, 0.7992592592592592, 0.8225589225589225, 0.8460942760942761, 0.7925252525252526, 0.8326936026936026, 0.8292929292929293, 0.8427609427609428, 0.8460606060606062, 0.8259595959595959, 0.8258585858585858, 0.8426262626262626, 0.8125589225589226, 0.8292929292929293, 0.8327272727272729, 0.8258585858585858, 0.8360942760942761, 0.8460942760942761, 0.6823569023569024, 0.8292929292929293, 0.8427609427609428, 0.7693939393939394]}, {\"categories\": [\"0\", \"1\", \"2\", \"3\", \"4\", \"5\", \"6\", \"7\", \"8\", \"9\", \"10\", \"11\", \"12\", \"13\", \"14\", \"15\", \"16\", \"17\", \"18\", \"19\", \"20\", \"21\", \"22\", \"23\", \"24\", \"25\", \"26\", \"27\", \"28\", \"29\", \"30\", \"31\", \"32\", \"33\", \"34\", \"35\", \"36\", \"37\", \"38\", \"39\", \"40\", \"41\", \"42\", \"43\", \"44\", \"45\", \"46\", \"48\", \"49\"], \"mode\": \"lines\", \"name\": \"recall_score_weighted_max\", \"stepped\": true, \"type\": \"scatter\", \"data\": [0.8025252525252524, 0.8192929292929293, 0.8293265993265994, 0.8293265993265994, 0.8460942760942761, 0.8460942760942761, 0.8460942760942761, 0.8460942760942761, 0.8460942760942761, 0.8460942760942761, 0.8460942760942761, 0.8460942760942761, 0.8460942760942761, 0.8460942760942761, 0.8460942760942761, 0.8460942760942761, 0.8460942760942761, 0.8460942760942761, 0.8460942760942761, 0.8460942760942761, 0.8460942760942761, 0.8460942760942761, 0.8460942760942761, 0.8460942760942761, 0.8460942760942761, 0.8460942760942761, 0.8460942760942761, 0.8460942760942761, 0.8460942760942761, 0.8460942760942761, 0.8460942760942761, 0.8460942760942761, 0.8460942760942761, 0.8460942760942761, 0.8460942760942761, 0.8460942760942761, 0.8460942760942761, 0.8460942760942761, 0.8460942760942761, 0.8460942760942761, 0.8460942760942761, 0.8460942760942761, 0.8460942760942761, 0.8460942760942761, 0.8460942760942761, 0.8460942760942761, 0.8460942760942761, 0.8460942760942761, 0.8460942760942761]}]}, \"metricName\": null, \"primaryMetricName\": \"AUC_weighted\", \"showLegend\": false}, \"run_metrics\": [{\"name\": \"experiment_status\", \"run_id\": \"AutoML_7864ded7-621a-42b1-a8e8-593d96f61793\", \"categories\": [0, 1, 2, 3, 4, 5, 6, 7, 8, 9, 10, 11, 12, 13], \"series\": [{\"data\": [\"DatasetEvaluation\", \"FeaturesGeneration\", \"DatasetFeaturization\", \"DatasetFeaturizationCompleted\", \"DatasetCrossValidationSplit\", \"ModelSelection\", \"BestRunExplainModel\", \"ModelExplanationDataSetSetup\", \"PickSurrogateModel\", \"EngineeredFeatureExplanations\", \"EngineeredFeatureExplanations\", \"RawFeaturesExplanations\", \"RawFeaturesExplanations\", \"BestRunExplainModel\"]}]}, {\"name\": \"experiment_status_description\", \"run_id\": \"AutoML_7864ded7-621a-42b1-a8e8-593d96f61793\", \"categories\": [0, 1, 2, 3, 4, 5, 6, 7, 8, 9, 10, 11, 12, 13], \"series\": [{\"data\": [\"Gathering dataset statistics.\", \"Generating features for the dataset.\", \"Beginning to fit featurizers and featurize the dataset.\", \"Completed fit featurizers and featurizing the dataset.\", \"Generating individually featurized CV splits.\", \"Beginning model selection.\", \"Best run model explanations started\", \"Model explanations data setup completed\", \"Choosing LightGBM as the surrogate model for explanations\", \"Computation of engineered features started\", \"Computation of engineered features completed\", \"Computation of raw features started\", \"Computation of raw features completed\", \"Best run model explanations completed\"]}]}, {\"name\": \"precision_score_weighted\", \"run_id\": \"AutoML_7864ded7-621a-42b1-a8e8-593d96f61793\", \"categories\": [0], \"series\": [{\"data\": [0.8478759179584472]}]}, {\"name\": \"f1_score_weighted\", \"run_id\": \"AutoML_7864ded7-621a-42b1-a8e8-593d96f61793\", \"categories\": [0], \"series\": [{\"data\": [0.837717368489018]}]}, {\"name\": \"recall_score_weighted\", \"run_id\": \"AutoML_7864ded7-621a-42b1-a8e8-593d96f61793\", \"categories\": [0], \"series\": [{\"data\": [0.8427609427609428]}]}, {\"name\": \"average_precision_score_weighted\", \"run_id\": \"AutoML_7864ded7-621a-42b1-a8e8-593d96f61793\", \"categories\": [0], \"series\": [{\"data\": [0.9218023781812907]}]}, {\"name\": \"weighted_accuracy\", \"run_id\": \"AutoML_7864ded7-621a-42b1-a8e8-593d96f61793\", \"categories\": [0], \"series\": [{\"data\": [0.8718472206471386]}]}, {\"name\": \"precision_score_macro\", \"run_id\": \"AutoML_7864ded7-621a-42b1-a8e8-593d96f61793\", \"categories\": [0], \"series\": [{\"data\": [0.8347619223645998]}]}, {\"name\": \"precision_score_micro\", \"run_id\": \"AutoML_7864ded7-621a-42b1-a8e8-593d96f61793\", \"categories\": [0], \"series\": [{\"data\": [0.8427609427609428]}]}, {\"name\": \"accuracy\", \"run_id\": \"AutoML_7864ded7-621a-42b1-a8e8-593d96f61793\", \"categories\": [0], \"series\": [{\"data\": [0.8427609427609428]}]}, {\"name\": \"average_precision_score_micro\", \"run_id\": \"AutoML_7864ded7-621a-42b1-a8e8-593d96f61793\", \"categories\": [0], \"series\": [{\"data\": [0.9171878209299923]}]}, {\"name\": \"norm_macro_recall\", \"run_id\": \"AutoML_7864ded7-621a-42b1-a8e8-593d96f61793\", \"categories\": [0], \"series\": [{\"data\": [0.6125504815159987]}]}, {\"name\": \"f1_score_micro\", \"run_id\": \"AutoML_7864ded7-621a-42b1-a8e8-593d96f61793\", \"categories\": [0], \"series\": [{\"data\": [0.8427609427609428]}]}, {\"name\": \"recall_score_micro\", \"run_id\": \"AutoML_7864ded7-621a-42b1-a8e8-593d96f61793\", \"categories\": [0], \"series\": [{\"data\": [0.8427609427609428]}]}, {\"name\": \"AUC_weighted\", \"run_id\": \"AutoML_7864ded7-621a-42b1-a8e8-593d96f61793\", \"categories\": [0], \"series\": [{\"data\": [0.9154087585122067]}]}, {\"name\": \"f1_score_macro\", \"run_id\": \"AutoML_7864ded7-621a-42b1-a8e8-593d96f61793\", \"categories\": [0], \"series\": [{\"data\": [0.8113869524647143]}]}, {\"name\": \"AUC_macro\", \"run_id\": \"AutoML_7864ded7-621a-42b1-a8e8-593d96f61793\", \"categories\": [0], \"series\": [{\"data\": [0.9154087585122067]}]}, {\"name\": \"log_loss\", \"run_id\": \"AutoML_7864ded7-621a-42b1-a8e8-593d96f61793\", \"categories\": [0], \"series\": [{\"data\": [0.4552279265517129]}]}, {\"name\": \"matthews_correlation\", \"run_id\": \"AutoML_7864ded7-621a-42b1-a8e8-593d96f61793\", \"categories\": [0], \"series\": [{\"data\": [0.6388882661896386]}]}, {\"name\": \"average_precision_score_macro\", \"run_id\": \"AutoML_7864ded7-621a-42b1-a8e8-593d96f61793\", \"categories\": [0], \"series\": [{\"data\": [0.900864714392057]}]}, {\"name\": \"AUC_micro\", \"run_id\": \"AutoML_7864ded7-621a-42b1-a8e8-593d96f61793\", \"categories\": [0], \"series\": [{\"data\": [0.9154401183552698]}]}, {\"name\": \"recall_score_macro\", \"run_id\": \"AutoML_7864ded7-621a-42b1-a8e8-593d96f61793\", \"categories\": [0], \"series\": [{\"data\": [0.8062752407579993]}]}, {\"name\": \"balanced_accuracy\", \"run_id\": \"AutoML_7864ded7-621a-42b1-a8e8-593d96f61793\", \"categories\": [0], \"series\": [{\"data\": [0.8062752407579993]}]}], \"run_logs\": \"\\nRun is completed.\", \"graph\": {}, \"widget_settings\": {\"childWidgetDisplay\": \"popup\", \"send_telemetry\": false, \"log_level\": \"INFO\", \"sdk_version\": \"1.26.0\"}, \"loading\": false}"
     },
     "metadata": {},
     "output_type": "display_data"
    }
   ],
   "source": [
    "RunDetails(remote_run).show()"
   ]
  },
  {
   "cell_type": "code",
   "execution_count": 12,
   "metadata": {},
   "outputs": [
    {
     "data": {
      "text/html": [
       "<table style=\"width:100%\"><tr><th>Experiment</th><th>Id</th><th>Type</th><th>Status</th><th>Details Page</th><th>Docs Page</th></tr><tr><td>exp-heart1</td><td>AutoML_7864ded7-621a-42b1-a8e8-593d96f61793</td><td>automl</td><td>Running</td><td><a href=\"https://ml.azure.com/runs/AutoML_7864ded7-621a-42b1-a8e8-593d96f61793?wsid=/subscriptions/a24a24d5-8d87-4c8a-99b6-91ed2d2df51f/resourcegroups/aml-quickstarts-143334/workspaces/quick-starts-ws-143334&amp;tid=660b3398-b80e-49d2-bc5b-ac1dc93b5254\" target=\"_blank\" rel=\"noopener\">Link to Azure Machine Learning studio</a></td><td><a href=\"https://docs.microsoft.com/en-us/python/api/overview/azure/ml/intro?view=azure-ml-py\" target=\"_blank\" rel=\"noopener\">Link to Documentation</a></td></tr></table>"
      ],
      "text/plain": [
       "<IPython.core.display.HTML object>"
      ]
     },
     "metadata": {},
     "output_type": "display_data"
    },
    {
     "name": "stdout",
     "output_type": "stream",
     "text": [
      "\n",
      "Current status: FeaturesGeneration. Generating features for the dataset.\n",
      "Current status: ModelSelection. Beginning model selection.\n",
      "\n",
      "****************************************************************************************************\n",
      "DATA GUARDRAILS: \n",
      "\n",
      "TYPE:         Class balancing detection\n",
      "STATUS:       PASSED\n",
      "DESCRIPTION:  Your inputs were analyzed, and all classes are balanced in your training data.\n",
      "              Learn more about imbalanced data: https://aka.ms/AutomatedMLImbalancedData\n",
      "\n",
      "****************************************************************************************************\n",
      "\n",
      "TYPE:         Missing feature values imputation\n",
      "STATUS:       PASSED\n",
      "DESCRIPTION:  No feature missing values were detected in the training data.\n",
      "              Learn more about missing value imputation: https://aka.ms/AutomatedMLFeaturization\n",
      "\n",
      "****************************************************************************************************\n",
      "\n",
      "TYPE:         High cardinality feature detection\n",
      "STATUS:       PASSED\n",
      "DESCRIPTION:  Your inputs were analyzed, and no high cardinality features were detected.\n",
      "              Learn more about high cardinality feature handling: https://aka.ms/AutomatedMLFeaturization\n",
      "\n",
      "****************************************************************************************************\n",
      "\n",
      "****************************************************************************************************\n",
      "ITERATION: The iteration being evaluated.\n",
      "PIPELINE: A summary description of the pipeline being evaluated.\n",
      "DURATION: Time taken for the current iteration.\n",
      "METRIC: The result of computing score on the fitted pipeline.\n",
      "BEST: The best observed score thus far.\n",
      "****************************************************************************************************\n",
      "\n",
      " ITERATION   PIPELINE                                       DURATION      METRIC      BEST\n"
     ]
    },
    {
     "name": "stderr",
     "output_type": "stream",
     "text": [
      "WARNING:root:Received unrecognized parameter debug_logs\n"
     ]
    },
    {
     "name": "stdout",
     "output_type": "stream",
     "text": [
      "         1   MaxAbsScaler XGBoostClassifier                 0:00:48       0.8759    0.8759\n",
      "         3   RobustScaler ExtremeRandomTrees                0:00:45       0.8705    0.8759\n",
      "         0   MaxAbsScaler LightGBM                          0:00:50       0.8550    0.8759\n",
      "         6   StandardScalerWrapper RandomForest             0:00:54       0.8919    0.8919\n",
      "         7   MinMaxScaler ExtremeRandomTrees                0:00:51       0.8607    0.8919\n",
      "         5   MinMaxScaler RandomForest                      0:02:53       0.8891    0.8919\n",
      "         8   MinMaxScaler ExtremeRandomTrees                0:00:43       0.8552    0.8919\n",
      "         9   SparseNormalizer KNN                           0:00:48       0.7429    0.8919\n",
      "        10   MinMaxScaler ExtremeRandomTrees                0:00:59       0.8508    0.8919\n",
      "        11   RobustScaler ExtremeRandomTrees                0:00:46       0.8656    0.8919\n",
      "         2   MinMaxScaler RandomForest                      0:05:21       0.8932    0.8932\n",
      "         4   MinMaxScaler RandomForest                      0:05:30       0.8933    0.8933\n",
      "        12   StandardScalerWrapper RandomForest             0:00:46       0.9017    0.9017\n",
      "        13   StandardScalerWrapper SGD                      0:00:47       0.8533    0.9017\n",
      "        14   RobustScaler RandomForest                      0:00:43       0.8566    0.9017\n",
      "        15   StandardScalerWrapper KNN                      0:00:49       0.5137    0.9017\n",
      "        16   MinMaxScaler RandomForest                      0:00:44       0.8973    0.9017\n",
      "        17   MinMaxScaler ExtremeRandomTrees                0:00:46       0.8190    0.9017\n",
      "        18   MaxAbsScaler RandomForest                      0:00:43       0.8795    0.9017\n",
      "        19   StandardScalerWrapper XGBoostClassifier        0:00:41       0.9019    0.9019\n",
      "        20   MaxAbsScaler RandomForest                      0:00:49       0.8712    0.9019\n",
      "        21   MaxAbsScaler ExtremeRandomTrees                0:00:46       0.8130    0.9019\n",
      "        22   MaxAbsScaler ExtremeRandomTrees                0:00:50       0.8554    0.9019\n",
      "        23   MinMaxScaler ExtremeRandomTrees                0:00:46       0.8740    0.9019\n",
      "        24   MaxAbsScaler ExtremeRandomTrees                0:00:44       0.8792    0.9019\n",
      "        25   TruncatedSVDWrapper XGBoostClassifier          0:00:45       0.4905    0.9019\n",
      "        26   StandardScalerWrapper XGBoostClassifier        0:00:47       0.8854    0.9019\n",
      "        27   MinMaxScaler RandomForest                      0:00:53       0.8986    0.9019\n",
      "        28   RobustScaler LightGBM                          0:00:49       0.8750    0.9019\n",
      "        29   StandardScalerWrapper XGBoostClassifier        0:00:41       0.8917    0.9019\n",
      "        30   StandardScalerWrapper XGBoostClassifier        0:00:47       0.8832    0.9019\n",
      "        31   StandardScalerWrapper SVM                      0:00:53       0.8513    0.9019\n",
      "        32   StandardScalerWrapper XGBoostClassifier        0:00:47       0.9080    0.9080\n",
      "        33   StandardScalerWrapper LightGBM                 0:00:46       0.8792    0.9080\n",
      "        34   StandardScalerWrapper XGBoostClassifier        0:00:47       0.8992    0.9080\n",
      "        35   StandardScalerWrapper XGBoostClassifier        0:00:47       0.9014    0.9080\n",
      "        36   StandardScalerWrapper RandomForest             0:00:50       0.8970    0.9080\n",
      "        37   StandardScalerWrapper RandomForest             0:00:49       0.9052    0.9080\n",
      "        38   MinMaxScaler RandomForest                      0:00:47       0.9071    0.9080\n",
      "        39   MinMaxScaler RandomForest                      0:00:49       0.8834    0.9080\n",
      "        40   StandardScalerWrapper XGBoostClassifier        0:00:55       0.8867    0.9080\n",
      "        41   RobustScaler GradientBoosting                  0:00:57       0.9017    0.9080\n",
      "        42   MaxAbsScaler RandomForest                      0:00:48       0.9018    0.9080\n",
      "        43   StandardScalerWrapper GradientBoosting         0:00:49       0.9017    0.9080\n",
      "        44   StandardScalerWrapper GradientBoosting         0:00:47       0.8986    0.9080\n",
      "        45   PCA XGBoostClassifier                          0:00:43       0.5067    0.9080\n",
      "        46   StandardScalerWrapper LightGBM                 0:00:32       0.8751    0.9080\n",
      "        47                                                  0:00:10          nan    0.9080\n",
      "        48    VotingEnsemble                                0:01:15       0.9154    0.9154\n",
      "        49    StackEnsemble                                 0:01:21       0.9127    0.9154\n"
     ]
    },
    {
     "data": {
      "text/plain": [
       "{'runId': 'AutoML_7864ded7-621a-42b1-a8e8-593d96f61793',\n",
       " 'target': 'compute-1',\n",
       " 'status': 'Completed',\n",
       " 'startTimeUtc': '2021-04-22T04:57:39.674336Z',\n",
       " 'endTimeUtc': '2021-04-22T05:24:21.845596Z',\n",
       " 'properties': {'num_iterations': '100',\n",
       "  'training_type': 'TrainFull',\n",
       "  'acquisition_function': 'EI',\n",
       "  'primary_metric': 'AUC_weighted',\n",
       "  'train_split': '0',\n",
       "  'acquisition_parameter': '0',\n",
       "  'num_cross_validation': '3',\n",
       "  'target': 'compute-1',\n",
       "  'AMLSettingsJsonString': '{\"path\":null,\"name\":\"exp-heart1\",\"subscription_id\":\"a24a24d5-8d87-4c8a-99b6-91ed2d2df51f\",\"resource_group\":\"aml-quickstarts-143334\",\"workspace_name\":\"quick-starts-ws-143334\",\"region\":\"southcentralus\",\"compute_target\":\"compute-1\",\"spark_service\":null,\"azure_service\":\"remote\",\"many_models\":false,\"pipeline_fetch_max_batch_size\":1,\"enable_batch_run\":false,\"enable_run_restructure\":false,\"iterations\":100,\"primary_metric\":\"AUC_weighted\",\"task_type\":\"classification\",\"data_script\":null,\"test_size\":0.0,\"validation_size\":0.0,\"n_cross_validations\":3,\"y_min\":null,\"y_max\":null,\"num_classes\":null,\"featurization\":\"auto\",\"_ignore_package_version_incompatibilities\":false,\"is_timeseries\":false,\"max_cores_per_iteration\":1,\"max_concurrent_iterations\":4,\"iteration_timeout_minutes\":null,\"mem_in_mb\":null,\"enforce_time_on_windows\":false,\"experiment_timeout_minutes\":20,\"experiment_exit_score\":null,\"whitelist_models\":null,\"blacklist_algos\":[\"TensorFlowLinearClassifier\",\"TensorFlowDNN\"],\"supported_models\":[\"MultinomialNaiveBayes\",\"LightGBM\",\"TensorFlowDNN\",\"LogisticRegression\",\"BernoulliNaiveBayes\",\"AveragedPerceptronClassifier\",\"LinearSVM\",\"DecisionTree\",\"SGD\",\"GradientBoosting\",\"RandomForest\",\"SVM\",\"TensorFlowLinearClassifier\",\"ExtremeRandomTrees\",\"KNN\",\"XGBoostClassifier\"],\"private_models\":[],\"auto_blacklist\":true,\"blacklist_samples_reached\":false,\"exclude_nan_labels\":true,\"verbosity\":20,\"_debug_log\":\"azureml_automl.log\",\"show_warnings\":false,\"model_explainability\":true,\"service_url\":null,\"sdk_url\":null,\"sdk_packages\":null,\"enable_onnx_compatible_models\":false,\"enable_split_onnx_featurizer_estimator_models\":false,\"vm_type\":\"STANDARD_D2_V2\",\"telemetry_verbosity\":20,\"send_telemetry\":true,\"enable_dnn\":false,\"scenario\":\"SDK-1.13.0\",\"environment_label\":null,\"save_mlflow\":false,\"force_text_dnn\":false,\"enable_feature_sweeping\":true,\"enable_early_stopping\":true,\"early_stopping_n_iters\":10,\"metrics\":null,\"enable_metric_confidence\":false,\"enable_ensembling\":true,\"enable_stack_ensembling\":true,\"ensemble_iterations\":15,\"enable_tf\":false,\"enable_subsampling\":false,\"subsample_seed\":null,\"enable_nimbusml\":false,\"enable_streaming\":false,\"force_streaming\":false,\"track_child_runs\":true,\"allowed_private_models\":[],\"label_column_name\":\"DEATH_EVENT\",\"weight_column_name\":null,\"cv_split_column_names\":null,\"enable_local_managed\":false,\"_local_managed_run_id\":null,\"cost_mode\":1,\"lag_length\":0,\"metric_operation\":\"maximize\",\"preprocess\":true,\"debug_logs\":\"automl_errors.log\"}',\n",
       "  'DataPrepJsonString': '{\\\\\"training_data\\\\\": {\\\\\"datasetId\\\\\": \\\\\"4bc234d2-9b7b-4295-af4f-28e18d1d5d7b\\\\\"}, \\\\\"datasets\\\\\": 0}',\n",
       "  'EnableSubsampling': 'False',\n",
       "  'runTemplate': 'AutoML',\n",
       "  'azureml.runsource': 'automl',\n",
       "  'display_task_type': 'classification',\n",
       "  'dependencies_versions': '{\"azureml-widgets\": \"1.26.0\", \"azureml-train\": \"1.26.0\", \"azureml-train-restclients-hyperdrive\": \"1.26.0\", \"azureml-train-core\": \"1.26.0\", \"azureml-train-automl\": \"1.26.0\", \"azureml-train-automl-runtime\": \"1.26.0\", \"azureml-train-automl-client\": \"1.26.0\", \"azureml-tensorboard\": \"1.26.0\", \"azureml-telemetry\": \"1.26.0\", \"azureml-sdk\": \"1.26.0\", \"azureml-samples\": \"0+unknown\", \"azureml-pipeline\": \"1.26.0\", \"azureml-pipeline-steps\": \"1.26.0\", \"azureml-pipeline-core\": \"1.26.0\", \"azureml-opendatasets\": \"1.26.0\", \"azureml-model-management-sdk\": \"1.0.1b6.post1\", \"azureml-mlflow\": \"1.26.0\", \"azureml-interpret\": \"1.26.0\", \"azureml-explain-model\": \"1.26.0\", \"azureml-defaults\": \"1.26.0\", \"azureml-dataset-runtime\": \"1.26.0\", \"azureml-dataprep\": \"2.13.2\", \"azureml-dataprep-rslex\": \"1.11.2\", \"azureml-dataprep-native\": \"32.0.0\", \"azureml-datadrift\": \"1.26.0\", \"azureml-core\": \"1.26.0\", \"azureml-contrib-services\": \"1.26.0\", \"azureml-contrib-server\": \"1.26.0\", \"azureml-contrib-reinforcementlearning\": \"1.26.0\", \"azureml-contrib-pipeline-steps\": \"1.26.0\", \"azureml-contrib-notebook\": \"1.26.0\", \"azureml-contrib-gbdt\": \"1.26.0\", \"azureml-contrib-fairness\": \"1.26.0\", \"azureml-contrib-dataset\": \"1.26.0\", \"azureml-cli-common\": \"1.26.0\", \"azureml-automl-runtime\": \"1.26.0\", \"azureml-automl-dnn-nlp\": \"1.26.0\", \"azureml-automl-core\": \"1.26.0\", \"azureml-accel-models\": \"1.26.0\"}',\n",
       "  '_aml_system_scenario_identification': 'Remote.Parent',\n",
       "  'ClientType': 'SDK',\n",
       "  'environment_cpu_name': 'AzureML-AutoML',\n",
       "  'environment_cpu_label': 'prod',\n",
       "  'environment_gpu_name': 'AzureML-AutoML-GPU',\n",
       "  'environment_gpu_label': 'prod',\n",
       "  'root_attribution': 'automl',\n",
       "  'attribution': 'AutoML',\n",
       "  'Orchestrator': 'AutoML',\n",
       "  'CancelUri': 'https://southcentralus.api.azureml.ms/jasmine/v1.0/subscriptions/a24a24d5-8d87-4c8a-99b6-91ed2d2df51f/resourceGroups/aml-quickstarts-143334/providers/Microsoft.MachineLearningServices/workspaces/quick-starts-ws-143334/experimentids/ec71b80d-cd85-484d-a180-49eba5e8daa5/cancel/AutoML_7864ded7-621a-42b1-a8e8-593d96f61793',\n",
       "  'ClientSdkVersion': '1.26.0',\n",
       "  'snapshotId': '00000000-0000-0000-0000-000000000000',\n",
       "  'SetupRunId': 'AutoML_7864ded7-621a-42b1-a8e8-593d96f61793_setup',\n",
       "  'SetupRunContainerId': 'dcid.AutoML_7864ded7-621a-42b1-a8e8-593d96f61793_setup',\n",
       "  'FeaturizationRunJsonPath': 'featurizer_container.json',\n",
       "  'FeaturizationRunId': 'AutoML_7864ded7-621a-42b1-a8e8-593d96f61793_featurize',\n",
       "  'ProblemInfoJsonString': '{\"dataset_num_categorical\": 0, \"is_sparse\": false, \"subsampling\": false, \"dataset_classes\": 2, \"dataset_features\": 12, \"dataset_samples\": 299, \"single_frequency_class_detected\": false}',\n",
       "  'ModelExplainRunId': 'AutoML_7864ded7-621a-42b1-a8e8-593d96f61793_ModelExplain'},\n",
       " 'inputDatasets': [{'dataset': {'id': '4bc234d2-9b7b-4295-af4f-28e18d1d5d7b'}, 'consumptionDetails': {'type': 'RunInput', 'inputName': 'training_data', 'mechanism': 'Direct'}}],\n",
       " 'outputDatasets': [],\n",
       " 'logFiles': {},\n",
       " 'submittedBy': 'ODL_User 143334'}"
      ]
     },
     "execution_count": 12,
     "metadata": {},
     "output_type": "execute_result"
    }
   ],
   "source": [
    "remote_run.wait_for_completion(show_output=True)"
   ]
  },
  {
   "cell_type": "markdown",
   "metadata": {},
   "source": [
    "## Best Model\n",
    "\n",
    "TODO: In the cell below, get the best model from the automl experiments and display all the properties of the model.\n",
    "\n"
   ]
  },
  {
   "cell_type": "code",
   "execution_count": 15,
   "metadata": {
    "gather": {
     "logged": 1598431425670
    },
    "jupyter": {
     "outputs_hidden": false,
     "source_hidden": false
    },
    "nteract": {
     "transient": {
      "deleting": false
     }
    }
   },
   "outputs": [
    {
     "name": "stderr",
     "output_type": "stream",
     "text": [
      "WARNING:root:Received unrecognized parameter debug_logs\n",
      "WARNING:root:Received unrecognized parameter debug_logs\n",
      "WARNING:root:Received unrecognized parameter debug_logs\n"
     ]
    },
    {
     "data": {
      "text/plain": [
       "PreFittedSoftVotingClassifier(classification_labels=None,\n",
       "                              estimators=[('32',\n",
       "                                           Pipeline(memory=None,\n",
       "                                                    steps=[('standardscalerwrapper',\n",
       "                                                            <azureml.automl.runtime.shared.model_wrappers.StandardScalerWrapper object at 0x7f6a53267f98>),\n",
       "                                                           ('xgboostclassifier',\n",
       "                                                            XGBoostClassifier(base_score=0.5,\n",
       "                                                                              booster='gbtree',\n",
       "                                                                              colsample_bylevel=1,\n",
       "                                                                              colsample_bynode=1,\n",
       "                                                                              colsample_bytree=0.9...\n",
       "                                                                              seed=None,\n",
       "                                                                              silent=None,\n",
       "                                                                              subsample=0.7,\n",
       "                                                                              tree_method='auto',\n",
       "                                                                              verbose=-10,\n",
       "                                                                              verbosity=0))],\n",
       "                                                    verbose=False))],\n",
       "                              flatten_transform=None,\n",
       "                              weights=[0.06666666666666667, 0.13333333333333333,\n",
       "                                       0.06666666666666667, 0.06666666666666667,\n",
       "                                       0.06666666666666667, 0.06666666666666667,\n",
       "                                       0.13333333333333333, 0.13333333333333333,\n",
       "                                       0.13333333333333333, 0.06666666666666667,\n",
       "                                       0.06666666666666667])"
      ]
     },
     "execution_count": 15,
     "metadata": {},
     "output_type": "execute_result"
    }
   ],
   "source": [
    "best_auto_run,best_auto_model=remote_run.get_output()\n",
    "best_auto_model._final_estimator"
   ]
  },
  {
   "cell_type": "code",
   "execution_count": 16,
   "metadata": {
    "gather": {
     "logged": 1598431426111
    },
    "jupyter": {
     "outputs_hidden": false,
     "source_hidden": false
    },
    "nteract": {
     "transient": {
      "deleting": false
     }
    }
   },
   "outputs": [
    {
     "data": {
      "text/plain": [
       "['automl_model.pkl']"
      ]
     },
     "execution_count": 16,
     "metadata": {},
     "output_type": "execute_result"
    }
   ],
   "source": [
    "#TODO: Save the best model\n",
    "import joblib\n",
    "joblib.dump(best_auto_model,\"automl_model.pkl\")"
   ]
  },
  {
   "cell_type": "markdown",
   "metadata": {},
   "source": [
    "## Model Deployment\n",
    "\n",
    "Remember you have to deploy only one of the two models you trained.. Perform the steps in the rest of this notebook only if you wish to deploy this model.\n",
    "\n",
    "TODO: In the cell below, register the model, create an inference config and deploy the model as a web service."
   ]
  },
  {
   "cell_type": "code",
   "execution_count": null,
   "metadata": {
    "gather": {
     "logged": 1598431435189
    },
    "jupyter": {
     "outputs_hidden": false,
     "source_hidden": false
    },
    "nteract": {
     "transient": {
      "deleting": false
     }
    }
   },
   "outputs": [],
   "source": [
    "from "
   ]
  },
  {
   "cell_type": "markdown",
   "metadata": {
    "collapsed": true,
    "gather": {
     "logged": 1598431657736
    },
    "jupyter": {
     "outputs_hidden": false,
     "source_hidden": false
    },
    "nteract": {
     "transient": {
      "deleting": false
     }
    }
   },
   "source": [
    "TODO: In the cell below, send a request to the web service you deployed to test it."
   ]
  },
  {
   "cell_type": "code",
   "execution_count": null,
   "metadata": {
    "gather": {
     "logged": 1598432707604
    },
    "jupyter": {
     "outputs_hidden": false,
     "source_hidden": false
    },
    "nteract": {
     "transient": {
      "deleting": false
     }
    }
   },
   "outputs": [],
   "source": []
  },
  {
   "cell_type": "markdown",
   "metadata": {
    "collapsed": true,
    "gather": {
     "logged": 1598432765711
    },
    "jupyter": {
     "outputs_hidden": false,
     "source_hidden": false
    },
    "nteract": {
     "transient": {
      "deleting": false
     }
    }
   },
   "source": [
    "TODO: In the cell below, print the logs of the web service and delete the service"
   ]
  },
  {
   "cell_type": "code",
   "execution_count": null,
   "metadata": {
    "jupyter": {
     "outputs_hidden": false,
     "source_hidden": false
    },
    "nteract": {
     "transient": {
      "deleting": false
     }
    }
   },
   "outputs": [],
   "source": []
  }
 ],
 "metadata": {
  "kernel_info": {
   "name": "python3-azureml"
  },
  "kernelspec": {
   "display_name": "Python 3",
   "language": "python",
   "name": "python3"
  },
  "language_info": {
   "codemirror_mode": {
    "name": "ipython",
    "version": 3
   },
   "file_extension": ".py",
   "mimetype": "text/x-python",
   "name": "python",
   "nbconvert_exporter": "python",
   "pygments_lexer": "ipython3",
   "version": "3.6.9"
  },
  "nteract": {
   "version": "nteract-front-end@1.0.0"
  }
 },
 "nbformat": 4,
 "nbformat_minor": 2
}
