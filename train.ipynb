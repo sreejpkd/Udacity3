{
 "cells": [
  {
   "cell_type": "code",
   "execution_count": null,
   "id": "bbbf3af2",
   "metadata": {
    "lines_to_next_cell": 2
   },
   "outputs": [],
   "source": [
    "\n",
    "\n",
    "import numpy as np #for linear algebra\n",
    "import pandas as pd #for chopping, processing\n",
    "import csv #for opening csv files\n",
    "from sklearn import svm #for Support Vector Machines\n",
    "from scipy import stats #for statistical info\n",
    "from sklearn.model_selection import train_test_split # to split the data in train and test\n",
    "from sklearn.model_selection import KFold # for cross validation\n",
    "from sklearn.model_selection import learning_curve, GridSearchCV\n",
    "from sklearn.neighbors import KNeighborsClassifier  #for k-neighbor classifier\n",
    "from sklearn import metrics  # for checking the accuracy \n",
    "from time import time\n",
    "from azureml.core.run import Run\n",
    "from azureml.core import Dataset, Workspace, Experiment, Environment\n",
    "import argparse\n",
    "import joblib\n",
    "import os"
   ]
  },
  {
   "cell_type": "code",
   "execution_count": null,
   "id": "a18f62dd",
   "metadata": {
    "lines_to_next_cell": 2
   },
   "outputs": [],
   "source": [
    "\n",
    "\n",
    "run=Run.get_context()\n",
    "ws = Workspace.from_config()\n",
    "print('Workspace name: ' + ws.name, \n",
    "      'Azure region: ' + ws.location, \n",
    "      'Subscription id: ' + ws.subscription_id, \n",
    "      'Resource group: ' + ws.resource_group, sep = '\\n')\n",
    "dataset=Dataset.get_by_name(ws,name='heartfailure')"
   ]
  },
  {
   "cell_type": "code",
   "execution_count": null,
   "id": "1e57bf9d",
   "metadata": {},
   "outputs": [],
   "source": [
    "import pandas as pd\n",
    "heart_df =dataset.to_pandas_dataframe()\n",
    "heart_df.head()"
   ]
  },
  {
   "cell_type": "code",
   "execution_count": null,
   "id": "5890f284",
   "metadata": {},
   "outputs": [],
   "source": [
    "x_df =heart_df.drop('DEATH_EVENT',axis=1)\n",
    "y_df=heart_df['DEATH_EVENT']\n",
    "\n",
    "    \n"
   ]
  },
  {
   "cell_type": "code",
   "execution_count": null,
   "id": "0c8d1354",
   "metadata": {},
   "outputs": [],
   "source": [
    "from sklearn.svm import SVC\n",
    "def train_classifier(clf, X_train, Y_train):\n",
    "    start = time()\n",
    "    model=clf.fit(X_train, Y_train)\n",
    "    end = time()\n",
    "    print (\"Trained model in {:.4f} seconds\".format(end - start))\n",
    "    return model"
   ]
  },
  {
   "cell_type": "code",
   "execution_count": null,
   "id": "005448cf",
   "metadata": {},
   "outputs": [],
   "source": [
    "def main():\n",
    "    parser = argparse.ArgumentParser()\n",
    "    parser.add_argument('--C', type=float, default=1.0, help=\"Inverse of regularization strength.\")\n",
    "    parser.add_argument('--coef0', type=int, default=0, help=\"Independent term in kernel function\")\n",
    "    args = parser.parse_args()\n",
    "\n",
    "    run.log(\"Regularization Strength:\", np.float(args.C))\n",
    "    \n",
    "    run.log(\"coef0:\", np.int(args.coef0))\n",
    "    # TODO: Split data into train and test sets.\n",
    "    x_train,x_test,y_train,y_test=train_test_split(x_df,y_df,test_size=0.2,random_state=403,shuffle=True)\n",
    "    clf=SVC(C=args.C,coef0=args.coef0)\n",
    "    model=train_classifier(clf, x_train, y_train)\n",
    "    \n",
    "    os.makedirs('outputs',exist_ok=True)\n",
    "    joblib.dump(model,'outputs/modelnew.joblib')\n",
    "    accuracy = model.score(x_test, y_test)\n",
    "    run.log(\"Accuracy\", np.float(accuracy))\n",
    "\n",
    "if __name__ == '__main__':\n",
    "    main()\n",
    "    \n"
   ]
  },
  {
   "cell_type": "code",
   "execution_count": null,
   "id": "db3ace8b",
   "metadata": {
    "lines_to_next_cell": 2
   },
   "outputs": [],
   "source": [
    "%tb"
   ]
  },
  {
   "cell_type": "code",
   "execution_count": null,
   "id": "7523ae09",
   "metadata": {
    "lines_to_next_cell": 2
   },
   "outputs": [],
   "source": [
    "\n",
    "\n"
   ]
  }
 ],
 "metadata": {
  "jupytext": {
   "cell_metadata_filter": "-all",
   "encoding": "# coding: utf-8",
   "executable": "/usr/bin/env python",
   "notebook_metadata_filter": "-all",
   "text_representation": {
    "extension": ".py",
    "format_name": "percent"
   }
  },
  "kernelspec": {
   "display_name": "Python 3.6 - AzureML",
   "language": "python",
   "name": "python3-azureml"
  }
 },
 "nbformat": 4,
 "nbformat_minor": 5
}
